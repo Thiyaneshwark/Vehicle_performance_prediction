{
 "cells": [
  {
   "cell_type": "markdown",
   "id": "3c35b9b9",
   "metadata": {},
   "source": [
    "# Predict the performance of vehicle"
   ]
  },
  {
   "cell_type": "code",
   "execution_count": 460,
   "id": "74deecbf",
   "metadata": {},
   "outputs": [],
   "source": [
    "import numpy as np\n",
    "import pandas as pd\n",
    "import matplotlib.pyplot as plt\n",
    "import seaborn as sns\n",
    "\n",
    "pd.set_option('display.max_rows',None)\n",
    "pd.set_option('display.max_columns',None)\n",
    "\n",
    "from sklearn.linear_model import LinearRegression\n",
    "from sklearn.linear_model import SGDRegressor\n",
    "from sklearn.preprocessing import LabelEncoder\n",
    "from sklearn.preprocessing import PolynomialFeatures\n",
    "from sklearn.model_selection import train_test_split\n",
    "from sklearn.preprocessing import MinMaxScaler\n",
    "from sklearn.metrics import mean_squared_error\n",
    "\n",
    "from math import sqrt\n",
    "\n",
    "\n",
    "import re\n",
    "\n",
    "import warnings\n",
    "warnings.filterwarnings('ignore')"
   ]
  },
  {
   "cell_type": "code",
   "execution_count": 136,
   "id": "4cb710bc",
   "metadata": {},
   "outputs": [
    {
     "data": {
      "text/html": [
       "<div>\n",
       "<style scoped>\n",
       "    .dataframe tbody tr th:only-of-type {\n",
       "        vertical-align: middle;\n",
       "    }\n",
       "\n",
       "    .dataframe tbody tr th {\n",
       "        vertical-align: top;\n",
       "    }\n",
       "\n",
       "    .dataframe thead th {\n",
       "        text-align: right;\n",
       "    }\n",
       "</style>\n",
       "<table border=\"1\" class=\"dataframe\">\n",
       "  <thead>\n",
       "    <tr style=\"text-align: right;\">\n",
       "      <th></th>\n",
       "      <th>origin</th>\n",
       "      <th>cylinders</th>\n",
       "      <th>displacement</th>\n",
       "      <th>horsepower</th>\n",
       "      <th>weight</th>\n",
       "      <th>acceleration</th>\n",
       "      <th>year</th>\n",
       "      <th>name</th>\n",
       "      <th>Kilometer_per_liter</th>\n",
       "    </tr>\n",
       "  </thead>\n",
       "  <tbody>\n",
       "    <tr>\n",
       "      <th>323</th>\n",
       "      <td>1</td>\n",
       "      <td>4</td>\n",
       "      <td>156.0</td>\n",
       "      <td>105</td>\n",
       "      <td>2800</td>\n",
       "      <td>14.4</td>\n",
       "      <td>1980</td>\n",
       "      <td>dodge colt</td>\n",
       "      <td>11.861509</td>\n",
       "    </tr>\n",
       "    <tr>\n",
       "      <th>37</th>\n",
       "      <td>1</td>\n",
       "      <td>6</td>\n",
       "      <td>232.0</td>\n",
       "      <td>100</td>\n",
       "      <td>3288</td>\n",
       "      <td>15.5</td>\n",
       "      <td>1971</td>\n",
       "      <td>amc matador</td>\n",
       "      <td>7.652587</td>\n",
       "    </tr>\n",
       "    <tr>\n",
       "      <th>274</th>\n",
       "      <td>2</td>\n",
       "      <td>5</td>\n",
       "      <td>131.0</td>\n",
       "      <td>103</td>\n",
       "      <td>2830</td>\n",
       "      <td>15.9</td>\n",
       "      <td>1978</td>\n",
       "      <td>audi 5000</td>\n",
       "      <td>8.630417</td>\n",
       "    </tr>\n",
       "    <tr>\n",
       "      <th>185</th>\n",
       "      <td>1</td>\n",
       "      <td>4</td>\n",
       "      <td>98.0</td>\n",
       "      <td>79</td>\n",
       "      <td>2255</td>\n",
       "      <td>17.7</td>\n",
       "      <td>1976</td>\n",
       "      <td>dodge colt</td>\n",
       "      <td>11.053736</td>\n",
       "    </tr>\n",
       "    <tr>\n",
       "      <th>119</th>\n",
       "      <td>2</td>\n",
       "      <td>4</td>\n",
       "      <td>114.0</td>\n",
       "      <td>91</td>\n",
       "      <td>2582</td>\n",
       "      <td>14.0</td>\n",
       "      <td>1973</td>\n",
       "      <td>audi 100ls</td>\n",
       "      <td>8.502874</td>\n",
       "    </tr>\n",
       "    <tr>\n",
       "      <th>172</th>\n",
       "      <td>2</td>\n",
       "      <td>4</td>\n",
       "      <td>90.0</td>\n",
       "      <td>71</td>\n",
       "      <td>2223</td>\n",
       "      <td>16.5</td>\n",
       "      <td>1975</td>\n",
       "      <td>volkswagen dasher</td>\n",
       "      <td>10.628593</td>\n",
       "    </tr>\n",
       "    <tr>\n",
       "      <th>12</th>\n",
       "      <td>1</td>\n",
       "      <td>8</td>\n",
       "      <td>400.0</td>\n",
       "      <td>150</td>\n",
       "      <td>3761</td>\n",
       "      <td>9.5</td>\n",
       "      <td>1970</td>\n",
       "      <td>chevrolet monte carlo</td>\n",
       "      <td>6.377156</td>\n",
       "    </tr>\n",
       "    <tr>\n",
       "      <th>197</th>\n",
       "      <td>2</td>\n",
       "      <td>4</td>\n",
       "      <td>90.0</td>\n",
       "      <td>70</td>\n",
       "      <td>1937</td>\n",
       "      <td>14.2</td>\n",
       "      <td>1976</td>\n",
       "      <td>vw rabbit</td>\n",
       "      <td>12.329168</td>\n",
       "    </tr>\n",
       "    <tr>\n",
       "      <th>95</th>\n",
       "      <td>1</td>\n",
       "      <td>8</td>\n",
       "      <td>455.0</td>\n",
       "      <td>225</td>\n",
       "      <td>4951</td>\n",
       "      <td>11.0</td>\n",
       "      <td>1973</td>\n",
       "      <td>buick electra 225 custom</td>\n",
       "      <td>5.101724</td>\n",
       "    </tr>\n",
       "    <tr>\n",
       "      <th>77</th>\n",
       "      <td>2</td>\n",
       "      <td>4</td>\n",
       "      <td>121.0</td>\n",
       "      <td>76</td>\n",
       "      <td>2511</td>\n",
       "      <td>18.0</td>\n",
       "      <td>1972</td>\n",
       "      <td>volkswagen 411 (sw)</td>\n",
       "      <td>9.353162</td>\n",
       "    </tr>\n",
       "    <tr>\n",
       "      <th>143</th>\n",
       "      <td>2</td>\n",
       "      <td>4</td>\n",
       "      <td>97.0</td>\n",
       "      <td>78</td>\n",
       "      <td>2300</td>\n",
       "      <td>14.5</td>\n",
       "      <td>1974</td>\n",
       "      <td>opel manta</td>\n",
       "      <td>11.053736</td>\n",
       "    </tr>\n",
       "    <tr>\n",
       "      <th>340</th>\n",
       "      <td>1</td>\n",
       "      <td>4</td>\n",
       "      <td>156.0</td>\n",
       "      <td>92</td>\n",
       "      <td>2620</td>\n",
       "      <td>14.4</td>\n",
       "      <td>1981</td>\n",
       "      <td>dodge aries wagon (sw)</td>\n",
       "      <td>10.968708</td>\n",
       "    </tr>\n",
       "    <tr>\n",
       "      <th>34</th>\n",
       "      <td>1</td>\n",
       "      <td>6</td>\n",
       "      <td>225.0</td>\n",
       "      <td>105</td>\n",
       "      <td>3439</td>\n",
       "      <td>15.5</td>\n",
       "      <td>1971</td>\n",
       "      <td>plymouth satellite custom</td>\n",
       "      <td>6.802299</td>\n",
       "    </tr>\n",
       "    <tr>\n",
       "      <th>179</th>\n",
       "      <td>2</td>\n",
       "      <td>4</td>\n",
       "      <td>121.0</td>\n",
       "      <td>98</td>\n",
       "      <td>2945</td>\n",
       "      <td>14.5</td>\n",
       "      <td>1975</td>\n",
       "      <td>volvo 244dl</td>\n",
       "      <td>9.353162</td>\n",
       "    </tr>\n",
       "    <tr>\n",
       "      <th>384</th>\n",
       "      <td>3</td>\n",
       "      <td>4</td>\n",
       "      <td>91.0</td>\n",
       "      <td>67</td>\n",
       "      <td>1965</td>\n",
       "      <td>15.7</td>\n",
       "      <td>1982</td>\n",
       "      <td>honda civic (auto)</td>\n",
       "      <td>13.604599</td>\n",
       "    </tr>\n",
       "    <tr>\n",
       "      <th>20</th>\n",
       "      <td>2</td>\n",
       "      <td>4</td>\n",
       "      <td>110.0</td>\n",
       "      <td>87</td>\n",
       "      <td>2672</td>\n",
       "      <td>17.5</td>\n",
       "      <td>1970</td>\n",
       "      <td>peugeot 504</td>\n",
       "      <td>10.628593</td>\n",
       "    </tr>\n",
       "    <tr>\n",
       "      <th>237</th>\n",
       "      <td>1</td>\n",
       "      <td>4</td>\n",
       "      <td>98.0</td>\n",
       "      <td>63</td>\n",
       "      <td>2051</td>\n",
       "      <td>17.0</td>\n",
       "      <td>1977</td>\n",
       "      <td>chevrolet chevette</td>\n",
       "      <td>12.966883</td>\n",
       "    </tr>\n",
       "    <tr>\n",
       "      <th>265</th>\n",
       "      <td>1</td>\n",
       "      <td>8</td>\n",
       "      <td>318.0</td>\n",
       "      <td>140</td>\n",
       "      <td>4080</td>\n",
       "      <td>13.7</td>\n",
       "      <td>1978</td>\n",
       "      <td>dodge magnum xe</td>\n",
       "      <td>7.440015</td>\n",
       "    </tr>\n",
       "    <tr>\n",
       "      <th>233</th>\n",
       "      <td>2</td>\n",
       "      <td>4</td>\n",
       "      <td>97.0</td>\n",
       "      <td>78</td>\n",
       "      <td>1940</td>\n",
       "      <td>14.5</td>\n",
       "      <td>1977</td>\n",
       "      <td>volkswagen rabbit custom</td>\n",
       "      <td>12.329168</td>\n",
       "    </tr>\n",
       "    <tr>\n",
       "      <th>101</th>\n",
       "      <td>1</td>\n",
       "      <td>6</td>\n",
       "      <td>198.0</td>\n",
       "      <td>95</td>\n",
       "      <td>2904</td>\n",
       "      <td>16.0</td>\n",
       "      <td>1973</td>\n",
       "      <td>plymouth duster</td>\n",
       "      <td>9.778305</td>\n",
       "    </tr>\n",
       "  </tbody>\n",
       "</table>\n",
       "</div>"
      ],
      "text/plain": [
       "     origin  cylinders  displacement horsepower  weight  acceleration  year  \\\n",
       "323       1          4         156.0        105    2800          14.4  1980   \n",
       "37        1          6         232.0        100    3288          15.5  1971   \n",
       "274       2          5         131.0        103    2830          15.9  1978   \n",
       "185       1          4          98.0         79    2255          17.7  1976   \n",
       "119       2          4         114.0         91    2582          14.0  1973   \n",
       "172       2          4          90.0         71    2223          16.5  1975   \n",
       "12        1          8         400.0        150    3761           9.5  1970   \n",
       "197       2          4          90.0         70    1937          14.2  1976   \n",
       "95        1          8         455.0        225    4951          11.0  1973   \n",
       "77        2          4         121.0         76    2511          18.0  1972   \n",
       "143       2          4          97.0         78    2300          14.5  1974   \n",
       "340       1          4         156.0         92    2620          14.4  1981   \n",
       "34        1          6         225.0        105    3439          15.5  1971   \n",
       "179       2          4         121.0         98    2945          14.5  1975   \n",
       "384       3          4          91.0         67    1965          15.7  1982   \n",
       "20        2          4         110.0         87    2672          17.5  1970   \n",
       "237       1          4          98.0         63    2051          17.0  1977   \n",
       "265       1          8         318.0        140    4080          13.7  1978   \n",
       "233       2          4          97.0         78    1940          14.5  1977   \n",
       "101       1          6         198.0         95    2904          16.0  1973   \n",
       "\n",
       "                          name  Kilometer_per_liter  \n",
       "323                 dodge colt            11.861509  \n",
       "37                 amc matador             7.652587  \n",
       "274                  audi 5000             8.630417  \n",
       "185                 dodge colt            11.053736  \n",
       "119                 audi 100ls             8.502874  \n",
       "172          volkswagen dasher            10.628593  \n",
       "12       chevrolet monte carlo             6.377156  \n",
       "197                  vw rabbit            12.329168  \n",
       "95    buick electra 225 custom             5.101724  \n",
       "77         volkswagen 411 (sw)             9.353162  \n",
       "143                 opel manta            11.053736  \n",
       "340     dodge aries wagon (sw)            10.968708  \n",
       "34   plymouth satellite custom             6.802299  \n",
       "179                volvo 244dl             9.353162  \n",
       "384         honda civic (auto)            13.604599  \n",
       "20                 peugeot 504            10.628593  \n",
       "237         chevrolet chevette            12.966883  \n",
       "265            dodge magnum xe             7.440015  \n",
       "233   volkswagen rabbit custom            12.329168  \n",
       "101            plymouth duster             9.778305  "
      ]
     },
     "execution_count": 136,
     "metadata": {},
     "output_type": "execute_result"
    }
   ],
   "source": [
    "df=pd.read_csv('vehicle performance prediction.csv')\n",
    "df.sample(20)"
   ]
  },
  {
   "cell_type": "code",
   "execution_count": 137,
   "id": "dc268a84",
   "metadata": {},
   "outputs": [
    {
     "data": {
      "text/plain": [
       "(398, 9)"
      ]
     },
     "execution_count": 137,
     "metadata": {},
     "output_type": "execute_result"
    }
   ],
   "source": [
    "df.shape"
   ]
  },
  {
   "cell_type": "code",
   "execution_count": 138,
   "id": "cf26cfe0",
   "metadata": {},
   "outputs": [
    {
     "data": {
      "text/plain": [
       "origin                   int64\n",
       "cylinders                int64\n",
       "displacement           float64\n",
       "horsepower              object\n",
       "weight                   int64\n",
       "acceleration           float64\n",
       "year                     int64\n",
       "name                    object\n",
       "Kilometer_per_liter    float64\n",
       "dtype: object"
      ]
     },
     "execution_count": 138,
     "metadata": {},
     "output_type": "execute_result"
    }
   ],
   "source": [
    "df.dtypes"
   ]
  },
  {
   "cell_type": "code",
   "execution_count": 139,
   "id": "bfdb39ce",
   "metadata": {},
   "outputs": [
    {
     "data": {
      "text/html": [
       "<div>\n",
       "<style scoped>\n",
       "    .dataframe tbody tr th:only-of-type {\n",
       "        vertical-align: middle;\n",
       "    }\n",
       "\n",
       "    .dataframe tbody tr th {\n",
       "        vertical-align: top;\n",
       "    }\n",
       "\n",
       "    .dataframe thead th {\n",
       "        text-align: right;\n",
       "    }\n",
       "</style>\n",
       "<table border=\"1\" class=\"dataframe\">\n",
       "  <thead>\n",
       "    <tr style=\"text-align: right;\">\n",
       "      <th></th>\n",
       "      <th>origin</th>\n",
       "      <th>cylinders</th>\n",
       "      <th>displacement</th>\n",
       "      <th>weight</th>\n",
       "      <th>acceleration</th>\n",
       "      <th>year</th>\n",
       "      <th>Kilometer_per_liter</th>\n",
       "    </tr>\n",
       "  </thead>\n",
       "  <tbody>\n",
       "    <tr>\n",
       "      <th>count</th>\n",
       "      <td>398.000000</td>\n",
       "      <td>398.000000</td>\n",
       "      <td>398.000000</td>\n",
       "      <td>398.000000</td>\n",
       "      <td>398.000000</td>\n",
       "      <td>398.000000</td>\n",
       "      <td>398.000000</td>\n",
       "    </tr>\n",
       "    <tr>\n",
       "      <th>mean</th>\n",
       "      <td>1.572864</td>\n",
       "      <td>5.454774</td>\n",
       "      <td>193.425879</td>\n",
       "      <td>2970.424623</td>\n",
       "      <td>15.568090</td>\n",
       "      <td>1976.010050</td>\n",
       "      <td>9.997073</td>\n",
       "    </tr>\n",
       "    <tr>\n",
       "      <th>std</th>\n",
       "      <td>0.802055</td>\n",
       "      <td>1.701004</td>\n",
       "      <td>104.269838</td>\n",
       "      <td>846.841774</td>\n",
       "      <td>2.757689</td>\n",
       "      <td>3.697627</td>\n",
       "      <td>3.322917</td>\n",
       "    </tr>\n",
       "    <tr>\n",
       "      <th>min</th>\n",
       "      <td>1.000000</td>\n",
       "      <td>3.000000</td>\n",
       "      <td>68.000000</td>\n",
       "      <td>1613.000000</td>\n",
       "      <td>8.000000</td>\n",
       "      <td>1970.000000</td>\n",
       "      <td>3.826293</td>\n",
       "    </tr>\n",
       "    <tr>\n",
       "      <th>25%</th>\n",
       "      <td>1.000000</td>\n",
       "      <td>4.000000</td>\n",
       "      <td>104.250000</td>\n",
       "      <td>2223.750000</td>\n",
       "      <td>13.825000</td>\n",
       "      <td>1973.000000</td>\n",
       "      <td>7.440015</td>\n",
       "    </tr>\n",
       "    <tr>\n",
       "      <th>50%</th>\n",
       "      <td>1.000000</td>\n",
       "      <td>4.000000</td>\n",
       "      <td>148.500000</td>\n",
       "      <td>2803.500000</td>\n",
       "      <td>15.500000</td>\n",
       "      <td>1976.000000</td>\n",
       "      <td>9.778305</td>\n",
       "    </tr>\n",
       "    <tr>\n",
       "      <th>75%</th>\n",
       "      <td>2.000000</td>\n",
       "      <td>8.000000</td>\n",
       "      <td>262.000000</td>\n",
       "      <td>3608.000000</td>\n",
       "      <td>17.175000</td>\n",
       "      <td>1979.000000</td>\n",
       "      <td>12.329168</td>\n",
       "    </tr>\n",
       "    <tr>\n",
       "      <th>max</th>\n",
       "      <td>3.000000</td>\n",
       "      <td>8.000000</td>\n",
       "      <td>455.000000</td>\n",
       "      <td>5140.000000</td>\n",
       "      <td>24.800000</td>\n",
       "      <td>1982.000000</td>\n",
       "      <td>19.811697</td>\n",
       "    </tr>\n",
       "  </tbody>\n",
       "</table>\n",
       "</div>"
      ],
      "text/plain": [
       "           origin   cylinders  displacement       weight  acceleration  \\\n",
       "count  398.000000  398.000000    398.000000   398.000000    398.000000   \n",
       "mean     1.572864    5.454774    193.425879  2970.424623     15.568090   \n",
       "std      0.802055    1.701004    104.269838   846.841774      2.757689   \n",
       "min      1.000000    3.000000     68.000000  1613.000000      8.000000   \n",
       "25%      1.000000    4.000000    104.250000  2223.750000     13.825000   \n",
       "50%      1.000000    4.000000    148.500000  2803.500000     15.500000   \n",
       "75%      2.000000    8.000000    262.000000  3608.000000     17.175000   \n",
       "max      3.000000    8.000000    455.000000  5140.000000     24.800000   \n",
       "\n",
       "              year  Kilometer_per_liter  \n",
       "count   398.000000           398.000000  \n",
       "mean   1976.010050             9.997073  \n",
       "std       3.697627             3.322917  \n",
       "min    1970.000000             3.826293  \n",
       "25%    1973.000000             7.440015  \n",
       "50%    1976.000000             9.778305  \n",
       "75%    1979.000000            12.329168  \n",
       "max    1982.000000            19.811697  "
      ]
     },
     "execution_count": 139,
     "metadata": {},
     "output_type": "execute_result"
    }
   ],
   "source": [
    "df.describe()"
   ]
  },
  {
   "cell_type": "code",
   "execution_count": 140,
   "id": "63db4669",
   "metadata": {},
   "outputs": [
    {
     "data": {
      "text/plain": [
       "origin                 0\n",
       "cylinders              0\n",
       "displacement           0\n",
       "horsepower             0\n",
       "weight                 0\n",
       "acceleration           0\n",
       "year                   0\n",
       "name                   0\n",
       "Kilometer_per_liter    0\n",
       "dtype: int64"
      ]
     },
     "execution_count": 140,
     "metadata": {},
     "output_type": "execute_result"
    }
   ],
   "source": [
    "df.isnull().sum()"
   ]
  },
  {
   "cell_type": "code",
   "execution_count": 141,
   "id": "455b106f",
   "metadata": {},
   "outputs": [
    {
     "data": {
      "text/html": [
       "<div>\n",
       "<style scoped>\n",
       "    .dataframe tbody tr th:only-of-type {\n",
       "        vertical-align: middle;\n",
       "    }\n",
       "\n",
       "    .dataframe tbody tr th {\n",
       "        vertical-align: top;\n",
       "    }\n",
       "\n",
       "    .dataframe thead th {\n",
       "        text-align: right;\n",
       "    }\n",
       "</style>\n",
       "<table border=\"1\" class=\"dataframe\">\n",
       "  <thead>\n",
       "    <tr style=\"text-align: right;\">\n",
       "      <th></th>\n",
       "      <th>horsepower</th>\n",
       "      <th>name</th>\n",
       "    </tr>\n",
       "  </thead>\n",
       "  <tbody>\n",
       "    <tr>\n",
       "      <th>count</th>\n",
       "      <td>398</td>\n",
       "      <td>398</td>\n",
       "    </tr>\n",
       "    <tr>\n",
       "      <th>unique</th>\n",
       "      <td>94</td>\n",
       "      <td>305</td>\n",
       "    </tr>\n",
       "    <tr>\n",
       "      <th>top</th>\n",
       "      <td>150</td>\n",
       "      <td>ford pinto</td>\n",
       "    </tr>\n",
       "    <tr>\n",
       "      <th>freq</th>\n",
       "      <td>22</td>\n",
       "      <td>6</td>\n",
       "    </tr>\n",
       "  </tbody>\n",
       "</table>\n",
       "</div>"
      ],
      "text/plain": [
       "       horsepower        name\n",
       "count         398         398\n",
       "unique         94         305\n",
       "top           150  ford pinto\n",
       "freq           22           6"
      ]
     },
     "execution_count": 141,
     "metadata": {},
     "output_type": "execute_result"
    }
   ],
   "source": [
    "df.describe(include='object')"
   ]
  },
  {
   "cell_type": "code",
   "execution_count": 142,
   "id": "8dcbf74b",
   "metadata": {},
   "outputs": [
    {
     "data": {
      "text/plain": [
       "array(['130', '165', '150', '140', '198', '220', '215', '225', '190',\n",
       "       '170', '160', '95', '97', '85', '88', '46', '87', '90', '113',\n",
       "       '200', '210', '193', '?', '100', '105', '175', '153', '180', '110',\n",
       "       '72', '86', '70', '76', '65', '69', '60', '80', '54', '208', '155',\n",
       "       '112', '92', '145', '137', '158', '167', '94', '107', '230', '49',\n",
       "       '75', '91', '122', '67', '83', '78', '52', '61', '93', '148',\n",
       "       '129', '96', '71', '98', '115', '53', '81', '79', '120', '152',\n",
       "       '102', '108', '68', '58', '149', '89', '63', '48', '66', '139',\n",
       "       '103', '125', '133', '138', '135', '142', '77', '62', '132', '84',\n",
       "       '64', '74', '116', '82'], dtype=object)"
      ]
     },
     "execution_count": 142,
     "metadata": {},
     "output_type": "execute_result"
    }
   ],
   "source": [
    "df.horsepower.unique()"
   ]
  },
  {
   "cell_type": "code",
   "execution_count": 143,
   "id": "42d827ae",
   "metadata": {},
   "outputs": [],
   "source": [
    "df.horsepower=df.horsepower.replace('?',np.NaN)\n",
    "df.horsepower=df.horsepower.replace(np.NaN,df.horsepower.median())\n",
    "df.horsepower=df.horsepower.astype('float64')"
   ]
  },
  {
   "cell_type": "code",
   "execution_count": 144,
   "id": "08de60b4",
   "metadata": {},
   "outputs": [
    {
     "data": {
      "text/plain": [
       "array([130. , 165. , 150. , 140. , 198. , 220. , 215. , 225. , 190. ,\n",
       "       170. , 160. ,  95. ,  97. ,  85. ,  88. ,  46. ,  87. ,  90. ,\n",
       "       113. , 200. , 210. , 193. ,  93.5, 100. , 105. , 175. , 153. ,\n",
       "       180. , 110. ,  72. ,  86. ,  70. ,  76. ,  65. ,  69. ,  60. ,\n",
       "        80. ,  54. , 208. , 155. , 112. ,  92. , 145. , 137. , 158. ,\n",
       "       167. ,  94. , 107. , 230. ,  49. ,  75. ,  91. , 122. ,  67. ,\n",
       "        83. ,  78. ,  52. ,  61. ,  93. , 148. , 129. ,  96. ,  71. ,\n",
       "        98. , 115. ,  53. ,  81. ,  79. , 120. , 152. , 102. , 108. ,\n",
       "        68. ,  58. , 149. ,  89. ,  63. ,  48. ,  66. , 139. , 103. ,\n",
       "       125. , 133. , 138. , 135. , 142. ,  77. ,  62. , 132. ,  84. ,\n",
       "        64. ,  74. , 116. ,  82. ])"
      ]
     },
     "execution_count": 144,
     "metadata": {},
     "output_type": "execute_result"
    }
   ],
   "source": [
    "df.horsepower.unique()"
   ]
  },
  {
   "cell_type": "code",
   "execution_count": 145,
   "id": "dc6cc7ae",
   "metadata": {},
   "outputs": [],
   "source": [
    "df.origin=df.origin.astype('object')"
   ]
  },
  {
   "cell_type": "code",
   "execution_count": 146,
   "id": "5f3d2d1e",
   "metadata": {},
   "outputs": [],
   "source": [
    "df[['Manufacturer', 'Model']] = df['name'].str.split(' ', n=1, expand=True)\n"
   ]
  },
  {
   "cell_type": "code",
   "execution_count": 147,
   "id": "ff58cdbf",
   "metadata": {},
   "outputs": [],
   "source": [
    "df.drop(['name'],axis=1,inplace=True)"
   ]
  },
  {
   "cell_type": "code",
   "execution_count": 148,
   "id": "ef1f4b36",
   "metadata": {},
   "outputs": [
    {
     "data": {
      "text/html": [
       "<div>\n",
       "<style scoped>\n",
       "    .dataframe tbody tr th:only-of-type {\n",
       "        vertical-align: middle;\n",
       "    }\n",
       "\n",
       "    .dataframe tbody tr th {\n",
       "        vertical-align: top;\n",
       "    }\n",
       "\n",
       "    .dataframe thead th {\n",
       "        text-align: right;\n",
       "    }\n",
       "</style>\n",
       "<table border=\"1\" class=\"dataframe\">\n",
       "  <thead>\n",
       "    <tr style=\"text-align: right;\">\n",
       "      <th></th>\n",
       "      <th>origin</th>\n",
       "      <th>cylinders</th>\n",
       "      <th>displacement</th>\n",
       "      <th>horsepower</th>\n",
       "      <th>weight</th>\n",
       "      <th>acceleration</th>\n",
       "      <th>year</th>\n",
       "      <th>Kilometer_per_liter</th>\n",
       "      <th>Manufacturer</th>\n",
       "      <th>Model</th>\n",
       "    </tr>\n",
       "  </thead>\n",
       "  <tbody>\n",
       "    <tr>\n",
       "      <th>79</th>\n",
       "      <td>2</td>\n",
       "      <td>4</td>\n",
       "      <td>96.0</td>\n",
       "      <td>69.0</td>\n",
       "      <td>2189</td>\n",
       "      <td>18.0</td>\n",
       "      <td>1972</td>\n",
       "      <td>11.053736</td>\n",
       "      <td>renault</td>\n",
       "      <td>12 (sw)</td>\n",
       "    </tr>\n",
       "    <tr>\n",
       "      <th>4</th>\n",
       "      <td>1</td>\n",
       "      <td>8</td>\n",
       "      <td>302.0</td>\n",
       "      <td>140.0</td>\n",
       "      <td>3449</td>\n",
       "      <td>10.5</td>\n",
       "      <td>1970</td>\n",
       "      <td>7.227443</td>\n",
       "      <td>ford</td>\n",
       "      <td>torino</td>\n",
       "    </tr>\n",
       "    <tr>\n",
       "      <th>210</th>\n",
       "      <td>3</td>\n",
       "      <td>6</td>\n",
       "      <td>156.0</td>\n",
       "      <td>108.0</td>\n",
       "      <td>2930</td>\n",
       "      <td>15.5</td>\n",
       "      <td>1976</td>\n",
       "      <td>8.077730</td>\n",
       "      <td>toyota</td>\n",
       "      <td>mark ii</td>\n",
       "    </tr>\n",
       "    <tr>\n",
       "      <th>90</th>\n",
       "      <td>1</td>\n",
       "      <td>8</td>\n",
       "      <td>429.0</td>\n",
       "      <td>198.0</td>\n",
       "      <td>4952</td>\n",
       "      <td>11.5</td>\n",
       "      <td>1973</td>\n",
       "      <td>5.101724</td>\n",
       "      <td>mercury</td>\n",
       "      <td>marquis brougham</td>\n",
       "    </tr>\n",
       "    <tr>\n",
       "      <th>99</th>\n",
       "      <td>1</td>\n",
       "      <td>6</td>\n",
       "      <td>232.0</td>\n",
       "      <td>100.0</td>\n",
       "      <td>2945</td>\n",
       "      <td>16.0</td>\n",
       "      <td>1973</td>\n",
       "      <td>7.652587</td>\n",
       "      <td>amc</td>\n",
       "      <td>hornet</td>\n",
       "    </tr>\n",
       "    <tr>\n",
       "      <th>384</th>\n",
       "      <td>3</td>\n",
       "      <td>4</td>\n",
       "      <td>91.0</td>\n",
       "      <td>67.0</td>\n",
       "      <td>1965</td>\n",
       "      <td>15.7</td>\n",
       "      <td>1982</td>\n",
       "      <td>13.604599</td>\n",
       "      <td>honda</td>\n",
       "      <td>civic (auto)</td>\n",
       "    </tr>\n",
       "    <tr>\n",
       "      <th>224</th>\n",
       "      <td>1</td>\n",
       "      <td>8</td>\n",
       "      <td>302.0</td>\n",
       "      <td>130.0</td>\n",
       "      <td>4295</td>\n",
       "      <td>14.9</td>\n",
       "      <td>1977</td>\n",
       "      <td>6.377156</td>\n",
       "      <td>mercury</td>\n",
       "      <td>cougar brougham</td>\n",
       "    </tr>\n",
       "    <tr>\n",
       "      <th>185</th>\n",
       "      <td>1</td>\n",
       "      <td>4</td>\n",
       "      <td>98.0</td>\n",
       "      <td>79.0</td>\n",
       "      <td>2255</td>\n",
       "      <td>17.7</td>\n",
       "      <td>1976</td>\n",
       "      <td>11.053736</td>\n",
       "      <td>dodge</td>\n",
       "      <td>colt</td>\n",
       "    </tr>\n",
       "    <tr>\n",
       "      <th>370</th>\n",
       "      <td>1</td>\n",
       "      <td>4</td>\n",
       "      <td>112.0</td>\n",
       "      <td>85.0</td>\n",
       "      <td>2575</td>\n",
       "      <td>16.2</td>\n",
       "      <td>1982</td>\n",
       "      <td>13.179455</td>\n",
       "      <td>pontiac</td>\n",
       "      <td>j2000 se hatchback</td>\n",
       "    </tr>\n",
       "    <tr>\n",
       "      <th>300</th>\n",
       "      <td>1</td>\n",
       "      <td>8</td>\n",
       "      <td>260.0</td>\n",
       "      <td>90.0</td>\n",
       "      <td>3420</td>\n",
       "      <td>22.2</td>\n",
       "      <td>1979</td>\n",
       "      <td>10.160935</td>\n",
       "      <td>oldsmobile</td>\n",
       "      <td>cutlass salon brougham</td>\n",
       "    </tr>\n",
       "    <tr>\n",
       "      <th>382</th>\n",
       "      <td>3</td>\n",
       "      <td>4</td>\n",
       "      <td>108.0</td>\n",
       "      <td>70.0</td>\n",
       "      <td>2245</td>\n",
       "      <td>16.9</td>\n",
       "      <td>1982</td>\n",
       "      <td>14.454886</td>\n",
       "      <td>toyota</td>\n",
       "      <td>corolla</td>\n",
       "    </tr>\n",
       "    <tr>\n",
       "      <th>100</th>\n",
       "      <td>1</td>\n",
       "      <td>6</td>\n",
       "      <td>250.0</td>\n",
       "      <td>88.0</td>\n",
       "      <td>3021</td>\n",
       "      <td>16.5</td>\n",
       "      <td>1973</td>\n",
       "      <td>7.652587</td>\n",
       "      <td>ford</td>\n",
       "      <td>maverick</td>\n",
       "    </tr>\n",
       "    <tr>\n",
       "      <th>319</th>\n",
       "      <td>3</td>\n",
       "      <td>4</td>\n",
       "      <td>120.0</td>\n",
       "      <td>75.0</td>\n",
       "      <td>2542</td>\n",
       "      <td>17.5</td>\n",
       "      <td>1980</td>\n",
       "      <td>13.306998</td>\n",
       "      <td>mazda</td>\n",
       "      <td>626</td>\n",
       "    </tr>\n",
       "    <tr>\n",
       "      <th>225</th>\n",
       "      <td>1</td>\n",
       "      <td>6</td>\n",
       "      <td>250.0</td>\n",
       "      <td>110.0</td>\n",
       "      <td>3520</td>\n",
       "      <td>16.4</td>\n",
       "      <td>1977</td>\n",
       "      <td>7.440015</td>\n",
       "      <td>chevrolet</td>\n",
       "      <td>concours</td>\n",
       "    </tr>\n",
       "    <tr>\n",
       "      <th>112</th>\n",
       "      <td>1</td>\n",
       "      <td>4</td>\n",
       "      <td>122.0</td>\n",
       "      <td>85.0</td>\n",
       "      <td>2310</td>\n",
       "      <td>18.5</td>\n",
       "      <td>1973</td>\n",
       "      <td>8.077730</td>\n",
       "      <td>ford</td>\n",
       "      <td>pinto</td>\n",
       "    </tr>\n",
       "    <tr>\n",
       "      <th>85</th>\n",
       "      <td>1</td>\n",
       "      <td>8</td>\n",
       "      <td>350.0</td>\n",
       "      <td>175.0</td>\n",
       "      <td>4100</td>\n",
       "      <td>13.0</td>\n",
       "      <td>1973</td>\n",
       "      <td>5.526868</td>\n",
       "      <td>buick</td>\n",
       "      <td>century 350</td>\n",
       "    </tr>\n",
       "    <tr>\n",
       "      <th>170</th>\n",
       "      <td>1</td>\n",
       "      <td>4</td>\n",
       "      <td>140.0</td>\n",
       "      <td>78.0</td>\n",
       "      <td>2592</td>\n",
       "      <td>18.5</td>\n",
       "      <td>1975</td>\n",
       "      <td>9.778305</td>\n",
       "      <td>pontiac</td>\n",
       "      <td>astro</td>\n",
       "    </tr>\n",
       "    <tr>\n",
       "      <th>113</th>\n",
       "      <td>1</td>\n",
       "      <td>6</td>\n",
       "      <td>155.0</td>\n",
       "      <td>107.0</td>\n",
       "      <td>2472</td>\n",
       "      <td>14.0</td>\n",
       "      <td>1973</td>\n",
       "      <td>8.928018</td>\n",
       "      <td>mercury</td>\n",
       "      <td>capri v6</td>\n",
       "    </tr>\n",
       "    <tr>\n",
       "      <th>264</th>\n",
       "      <td>1</td>\n",
       "      <td>8</td>\n",
       "      <td>302.0</td>\n",
       "      <td>139.0</td>\n",
       "      <td>3205</td>\n",
       "      <td>11.2</td>\n",
       "      <td>1978</td>\n",
       "      <td>7.695101</td>\n",
       "      <td>ford</td>\n",
       "      <td>futura</td>\n",
       "    </tr>\n",
       "    <tr>\n",
       "      <th>304</th>\n",
       "      <td>2</td>\n",
       "      <td>4</td>\n",
       "      <td>91.0</td>\n",
       "      <td>69.0</td>\n",
       "      <td>2130</td>\n",
       "      <td>14.7</td>\n",
       "      <td>1979</td>\n",
       "      <td>15.857860</td>\n",
       "      <td>fiat</td>\n",
       "      <td>strada custom</td>\n",
       "    </tr>\n",
       "  </tbody>\n",
       "</table>\n",
       "</div>"
      ],
      "text/plain": [
       "    origin  cylinders  displacement  horsepower  weight  acceleration  year  \\\n",
       "79       2          4          96.0        69.0    2189          18.0  1972   \n",
       "4        1          8         302.0       140.0    3449          10.5  1970   \n",
       "210      3          6         156.0       108.0    2930          15.5  1976   \n",
       "90       1          8         429.0       198.0    4952          11.5  1973   \n",
       "99       1          6         232.0       100.0    2945          16.0  1973   \n",
       "384      3          4          91.0        67.0    1965          15.7  1982   \n",
       "224      1          8         302.0       130.0    4295          14.9  1977   \n",
       "185      1          4          98.0        79.0    2255          17.7  1976   \n",
       "370      1          4         112.0        85.0    2575          16.2  1982   \n",
       "300      1          8         260.0        90.0    3420          22.2  1979   \n",
       "382      3          4         108.0        70.0    2245          16.9  1982   \n",
       "100      1          6         250.0        88.0    3021          16.5  1973   \n",
       "319      3          4         120.0        75.0    2542          17.5  1980   \n",
       "225      1          6         250.0       110.0    3520          16.4  1977   \n",
       "112      1          4         122.0        85.0    2310          18.5  1973   \n",
       "85       1          8         350.0       175.0    4100          13.0  1973   \n",
       "170      1          4         140.0        78.0    2592          18.5  1975   \n",
       "113      1          6         155.0       107.0    2472          14.0  1973   \n",
       "264      1          8         302.0       139.0    3205          11.2  1978   \n",
       "304      2          4          91.0        69.0    2130          14.7  1979   \n",
       "\n",
       "     Kilometer_per_liter Manufacturer                   Model  \n",
       "79             11.053736      renault                 12 (sw)  \n",
       "4               7.227443         ford                  torino  \n",
       "210             8.077730       toyota                 mark ii  \n",
       "90              5.101724      mercury        marquis brougham  \n",
       "99              7.652587          amc                  hornet  \n",
       "384            13.604599        honda            civic (auto)  \n",
       "224             6.377156      mercury         cougar brougham  \n",
       "185            11.053736        dodge                    colt  \n",
       "370            13.179455      pontiac      j2000 se hatchback  \n",
       "300            10.160935   oldsmobile  cutlass salon brougham  \n",
       "382            14.454886       toyota                 corolla  \n",
       "100             7.652587         ford                maverick  \n",
       "319            13.306998        mazda                     626  \n",
       "225             7.440015    chevrolet                concours  \n",
       "112             8.077730         ford                   pinto  \n",
       "85              5.526868        buick             century 350  \n",
       "170             9.778305      pontiac                   astro  \n",
       "113             8.928018      mercury                capri v6  \n",
       "264             7.695101         ford                  futura  \n",
       "304            15.857860         fiat           strada custom  "
      ]
     },
     "execution_count": 148,
     "metadata": {},
     "output_type": "execute_result"
    }
   ],
   "source": [
    "df.sample(20)"
   ]
  },
  {
   "cell_type": "code",
   "execution_count": 149,
   "id": "196edc98",
   "metadata": {},
   "outputs": [
    {
     "data": {
      "text/plain": [
       "37"
      ]
     },
     "execution_count": 149,
     "metadata": {},
     "output_type": "execute_result"
    }
   ],
   "source": [
    "df.Manufacturer.nunique()"
   ]
  },
  {
   "cell_type": "code",
   "execution_count": 150,
   "id": "53922c00",
   "metadata": {},
   "outputs": [],
   "source": [
    "df.Manufacturer=df.Manufacturer.replace({'chevroelt':'chevrolet','toyouta':'toyota','maxda':'mazda','vw':'volkswagen','vokswagen':'volkswagen','chevy':'chevrolet','mercedes-benz':'mercedes'})"
   ]
  },
  {
   "cell_type": "code",
   "execution_count": 151,
   "id": "dba2718d",
   "metadata": {},
   "outputs": [
    {
     "data": {
      "text/plain": [
       "30"
      ]
     },
     "execution_count": 151,
     "metadata": {},
     "output_type": "execute_result"
    }
   ],
   "source": [
    "df.Manufacturer.nunique()"
   ]
  },
  {
   "cell_type": "code",
   "execution_count": 152,
   "id": "3231e515",
   "metadata": {},
   "outputs": [
    {
     "data": {
      "text/plain": [
       "299"
      ]
     },
     "execution_count": 152,
     "metadata": {},
     "output_type": "execute_result"
    }
   ],
   "source": [
    "df.Model.nunique()"
   ]
  },
  {
   "cell_type": "code",
   "execution_count": 153,
   "id": "58180cbe",
   "metadata": {},
   "outputs": [],
   "source": [
    "pattern = r'[^a-zA-Z0-9\\s]'\n",
    "def remove_special_characters(text):\n",
    "    pattern = r'[^a-zA-Z0-9\\s]'\n",
    "    cleaned_text = re.sub(pattern, '', str(text))\n",
    "    return cleaned_text\n",
    "\n",
    "df['Model'] = df['Model'].apply(remove_special_characters)\n"
   ]
  },
  {
   "cell_type": "code",
   "execution_count": 154,
   "id": "8c0a5379",
   "metadata": {},
   "outputs": [
    {
     "data": {
      "text/html": [
       "<div>\n",
       "<style scoped>\n",
       "    .dataframe tbody tr th:only-of-type {\n",
       "        vertical-align: middle;\n",
       "    }\n",
       "\n",
       "    .dataframe tbody tr th {\n",
       "        vertical-align: top;\n",
       "    }\n",
       "\n",
       "    .dataframe thead th {\n",
       "        text-align: right;\n",
       "    }\n",
       "</style>\n",
       "<table border=\"1\" class=\"dataframe\">\n",
       "  <thead>\n",
       "    <tr style=\"text-align: right;\">\n",
       "      <th></th>\n",
       "      <th>origin</th>\n",
       "      <th>Manufacturer</th>\n",
       "      <th>Model</th>\n",
       "    </tr>\n",
       "  </thead>\n",
       "  <tbody>\n",
       "    <tr>\n",
       "      <th>count</th>\n",
       "      <td>398</td>\n",
       "      <td>398</td>\n",
       "      <td>398</td>\n",
       "    </tr>\n",
       "    <tr>\n",
       "      <th>unique</th>\n",
       "      <td>3</td>\n",
       "      <td>30</td>\n",
       "      <td>297</td>\n",
       "    </tr>\n",
       "    <tr>\n",
       "      <th>top</th>\n",
       "      <td>1</td>\n",
       "      <td>ford</td>\n",
       "      <td>pinto</td>\n",
       "    </tr>\n",
       "    <tr>\n",
       "      <th>freq</th>\n",
       "      <td>249</td>\n",
       "      <td>51</td>\n",
       "      <td>6</td>\n",
       "    </tr>\n",
       "  </tbody>\n",
       "</table>\n",
       "</div>"
      ],
      "text/plain": [
       "        origin Manufacturer  Model\n",
       "count      398          398    398\n",
       "unique       3           30    297\n",
       "top          1         ford  pinto\n",
       "freq       249           51      6"
      ]
     },
     "execution_count": 154,
     "metadata": {},
     "output_type": "execute_result"
    }
   ],
   "source": [
    "df.describe(include='object')"
   ]
  },
  {
   "cell_type": "code",
   "execution_count": 155,
   "id": "c7da9ff4",
   "metadata": {},
   "outputs": [
    {
     "data": {
      "image/png": "[encoded data removed]",
      "text/plain": [
       "<Figure size 640x480 with 9 Axes>"
      ]
     },
     "metadata": {},
     "output_type": "display_data"
    }
   ],
   "source": [
    "df.hist(color='pink')\n",
    "plt.tight_layout()\n",
    "plt.show()"
   ]
  },
  {
   "cell_type": "code",
   "execution_count": 156,
   "id": "5f60bc31",
   "metadata": {},
   "outputs": [
    {
     "data": {
      "text/plain": [
       "count    398.000000\n",
       "mean       9.997073\n",
       "std        3.322917\n",
       "min        3.826293\n",
       "25%        7.440015\n",
       "50%        9.778305\n",
       "75%       12.329168\n",
       "max       19.811697\n",
       "Name: Kilometer_per_liter, dtype: float64"
      ]
     },
     "execution_count": 156,
     "metadata": {},
     "output_type": "execute_result"
    }
   ],
   "source": [
    "df.Kilometer_per_liter.describe()"
   ]
  },
  {
   "cell_type": "code",
   "execution_count": 157,
   "id": "b29f90ed",
   "metadata": {},
   "outputs": [
    {
     "data": {
      "image/png": "[encoded data removed]",
      "text/plain": [
       "<Figure size 640x480 with 1 Axes>"
      ]
     },
     "metadata": {},
     "output_type": "display_data"
    }
   ],
   "source": [
    "sns.distplot(df.Kilometer_per_liter)\n",
    "plt.show()"
   ]
  },
  {
   "cell_type": "code",
   "execution_count": 158,
   "id": "e3cd0ca7",
   "metadata": {},
   "outputs": [
    {
     "data": {
      "text/plain": [
       "0.4570663438355477"
      ]
     },
     "execution_count": 158,
     "metadata": {},
     "output_type": "execute_result"
    }
   ],
   "source": [
    "df.Kilometer_per_liter.skew()"
   ]
  },
  {
   "cell_type": "code",
   "execution_count": 159,
   "id": "b8e84263",
   "metadata": {},
   "outputs": [],
   "source": [
    "df1=df.copy()"
   ]
  },
  {
   "cell_type": "markdown",
   "id": "8b4fb70c",
   "metadata": {},
   "source": [
    "### approach 1\n",
    "Dropping the Model column and Label Encoding the origin and manufacturer column"
   ]
  },
  {
   "cell_type": "code",
   "execution_count": 160,
   "id": "75a081cb",
   "metadata": {},
   "outputs": [],
   "source": [
    "df1.drop(['Model'],axis=1,inplace=True)"
   ]
  },
  {
   "cell_type": "code",
   "execution_count": 161,
   "id": "b5575dac",
   "metadata": {},
   "outputs": [],
   "source": [
    "Le=LabelEncoder()\n",
    "df1.Manufacturer=Le.fit_transform(df1.Manufacturer)"
   ]
  },
  {
   "cell_type": "code",
   "execution_count": 162,
   "id": "da3b1241",
   "metadata": {},
   "outputs": [],
   "source": [
    "df1=pd.get_dummies(df1,columns=['origin'])"
   ]
  },
  {
   "cell_type": "code",
   "execution_count": 163,
   "id": "90469fc1",
   "metadata": {
    "scrolled": true
   },
   "outputs": [
    {
     "data": {
      "text/html": [
       "<div>\n",
       "<style scoped>\n",
       "    .dataframe tbody tr th:only-of-type {\n",
       "        vertical-align: middle;\n",
       "    }\n",
       "\n",
       "    .dataframe tbody tr th {\n",
       "        vertical-align: top;\n",
       "    }\n",
       "\n",
       "    .dataframe thead th {\n",
       "        text-align: right;\n",
       "    }\n",
       "</style>\n",
       "<table border=\"1\" class=\"dataframe\">\n",
       "  <thead>\n",
       "    <tr style=\"text-align: right;\">\n",
       "      <th></th>\n",
       "      <th>cylinders</th>\n",
       "      <th>displacement</th>\n",
       "      <th>horsepower</th>\n",
       "      <th>weight</th>\n",
       "      <th>acceleration</th>\n",
       "      <th>year</th>\n",
       "      <th>Kilometer_per_liter</th>\n",
       "      <th>Manufacturer</th>\n",
       "      <th>origin_1</th>\n",
       "      <th>origin_2</th>\n",
       "      <th>origin_3</th>\n",
       "    </tr>\n",
       "  </thead>\n",
       "  <tbody>\n",
       "    <tr>\n",
       "      <th>329</th>\n",
       "      <td>4</td>\n",
       "      <td>91.0</td>\n",
       "      <td>67.0</td>\n",
       "      <td>1850</td>\n",
       "      <td>13.8</td>\n",
       "      <td>1980</td>\n",
       "      <td>18.961409</td>\n",
       "      <td>13</td>\n",
       "      <td>0</td>\n",
       "      <td>0</td>\n",
       "      <td>1</td>\n",
       "    </tr>\n",
       "    <tr>\n",
       "      <th>260</th>\n",
       "      <td>6</td>\n",
       "      <td>225.0</td>\n",
       "      <td>110.0</td>\n",
       "      <td>3620</td>\n",
       "      <td>18.7</td>\n",
       "      <td>1978</td>\n",
       "      <td>7.907673</td>\n",
       "      <td>9</td>\n",
       "      <td>1</td>\n",
       "      <td>0</td>\n",
       "      <td>0</td>\n",
       "    </tr>\n",
       "    <tr>\n",
       "      <th>367</th>\n",
       "      <td>4</td>\n",
       "      <td>112.0</td>\n",
       "      <td>88.0</td>\n",
       "      <td>2605</td>\n",
       "      <td>19.6</td>\n",
       "      <td>1982</td>\n",
       "      <td>11.904024</td>\n",
       "      <td>6</td>\n",
       "      <td>1</td>\n",
       "      <td>0</td>\n",
       "      <td>0</td>\n",
       "    </tr>\n",
       "    <tr>\n",
       "      <th>86</th>\n",
       "      <td>8</td>\n",
       "      <td>304.0</td>\n",
       "      <td>150.0</td>\n",
       "      <td>3672</td>\n",
       "      <td>11.5</td>\n",
       "      <td>1973</td>\n",
       "      <td>5.952012</td>\n",
       "      <td>0</td>\n",
       "      <td>1</td>\n",
       "      <td>0</td>\n",
       "      <td>0</td>\n",
       "    </tr>\n",
       "    <tr>\n",
       "      <th>253</th>\n",
       "      <td>6</td>\n",
       "      <td>200.0</td>\n",
       "      <td>95.0</td>\n",
       "      <td>3155</td>\n",
       "      <td>18.2</td>\n",
       "      <td>1978</td>\n",
       "      <td>8.715446</td>\n",
       "      <td>6</td>\n",
       "      <td>1</td>\n",
       "      <td>0</td>\n",
       "      <td>0</td>\n",
       "    </tr>\n",
       "    <tr>\n",
       "      <th>104</th>\n",
       "      <td>8</td>\n",
       "      <td>400.0</td>\n",
       "      <td>167.0</td>\n",
       "      <td>4906</td>\n",
       "      <td>12.5</td>\n",
       "      <td>1973</td>\n",
       "      <td>5.101724</td>\n",
       "      <td>11</td>\n",
       "      <td>1</td>\n",
       "      <td>0</td>\n",
       "      <td>0</td>\n",
       "    </tr>\n",
       "    <tr>\n",
       "      <th>334</th>\n",
       "      <td>3</td>\n",
       "      <td>70.0</td>\n",
       "      <td>100.0</td>\n",
       "      <td>2420</td>\n",
       "      <td>12.5</td>\n",
       "      <td>1980</td>\n",
       "      <td>10.075906</td>\n",
       "      <td>14</td>\n",
       "      <td>0</td>\n",
       "      <td>0</td>\n",
       "      <td>1</td>\n",
       "    </tr>\n",
       "    <tr>\n",
       "      <th>215</th>\n",
       "      <td>8</td>\n",
       "      <td>318.0</td>\n",
       "      <td>150.0</td>\n",
       "      <td>3755</td>\n",
       "      <td>14.0</td>\n",
       "      <td>1976</td>\n",
       "      <td>5.526868</td>\n",
       "      <td>9</td>\n",
       "      <td>1</td>\n",
       "      <td>0</td>\n",
       "      <td>0</td>\n",
       "    </tr>\n",
       "    <tr>\n",
       "      <th>58</th>\n",
       "      <td>4</td>\n",
       "      <td>97.5</td>\n",
       "      <td>80.0</td>\n",
       "      <td>2126</td>\n",
       "      <td>17.0</td>\n",
       "      <td>1972</td>\n",
       "      <td>10.628593</td>\n",
       "      <td>9</td>\n",
       "      <td>1</td>\n",
       "      <td>0</td>\n",
       "      <td>0</td>\n",
       "    </tr>\n",
       "    <tr>\n",
       "      <th>232</th>\n",
       "      <td>8</td>\n",
       "      <td>351.0</td>\n",
       "      <td>149.0</td>\n",
       "      <td>4335</td>\n",
       "      <td>14.5</td>\n",
       "      <td>1977</td>\n",
       "      <td>6.802299</td>\n",
       "      <td>11</td>\n",
       "      <td>1</td>\n",
       "      <td>0</td>\n",
       "      <td>0</td>\n",
       "    </tr>\n",
       "    <tr>\n",
       "      <th>94</th>\n",
       "      <td>8</td>\n",
       "      <td>440.0</td>\n",
       "      <td>215.0</td>\n",
       "      <td>4735</td>\n",
       "      <td>11.0</td>\n",
       "      <td>1973</td>\n",
       "      <td>5.526868</td>\n",
       "      <td>7</td>\n",
       "      <td>1</td>\n",
       "      <td>0</td>\n",
       "      <td>0</td>\n",
       "    </tr>\n",
       "    <tr>\n",
       "      <th>2</th>\n",
       "      <td>8</td>\n",
       "      <td>318.0</td>\n",
       "      <td>150.0</td>\n",
       "      <td>3436</td>\n",
       "      <td>11.0</td>\n",
       "      <td>1970</td>\n",
       "      <td>7.652587</td>\n",
       "      <td>21</td>\n",
       "      <td>1</td>\n",
       "      <td>0</td>\n",
       "      <td>0</td>\n",
       "    </tr>\n",
       "    <tr>\n",
       "      <th>324</th>\n",
       "      <td>4</td>\n",
       "      <td>85.0</td>\n",
       "      <td>65.0</td>\n",
       "      <td>2110</td>\n",
       "      <td>19.2</td>\n",
       "      <td>1980</td>\n",
       "      <td>17.345863</td>\n",
       "      <td>8</td>\n",
       "      <td>0</td>\n",
       "      <td>0</td>\n",
       "      <td>1</td>\n",
       "    </tr>\n",
       "    <tr>\n",
       "      <th>223</th>\n",
       "      <td>8</td>\n",
       "      <td>318.0</td>\n",
       "      <td>145.0</td>\n",
       "      <td>4140</td>\n",
       "      <td>13.7</td>\n",
       "      <td>1977</td>\n",
       "      <td>6.589727</td>\n",
       "      <td>9</td>\n",
       "      <td>1</td>\n",
       "      <td>0</td>\n",
       "      <td>0</td>\n",
       "    </tr>\n",
       "    <tr>\n",
       "      <th>44</th>\n",
       "      <td>8</td>\n",
       "      <td>400.0</td>\n",
       "      <td>175.0</td>\n",
       "      <td>5140</td>\n",
       "      <td>12.0</td>\n",
       "      <td>1971</td>\n",
       "      <td>5.526868</td>\n",
       "      <td>22</td>\n",
       "      <td>1</td>\n",
       "      <td>0</td>\n",
       "      <td>0</td>\n",
       "    </tr>\n",
       "    <tr>\n",
       "      <th>148</th>\n",
       "      <td>4</td>\n",
       "      <td>116.0</td>\n",
       "      <td>75.0</td>\n",
       "      <td>2246</td>\n",
       "      <td>14.0</td>\n",
       "      <td>1974</td>\n",
       "      <td>11.053736</td>\n",
       "      <td>10</td>\n",
       "      <td>0</td>\n",
       "      <td>1</td>\n",
       "      <td>0</td>\n",
       "    </tr>\n",
       "    <tr>\n",
       "      <th>357</th>\n",
       "      <td>4</td>\n",
       "      <td>119.0</td>\n",
       "      <td>100.0</td>\n",
       "      <td>2615</td>\n",
       "      <td>14.8</td>\n",
       "      <td>1981</td>\n",
       "      <td>13.987228</td>\n",
       "      <td>8</td>\n",
       "      <td>0</td>\n",
       "      <td>0</td>\n",
       "      <td>1</td>\n",
       "    </tr>\n",
       "    <tr>\n",
       "      <th>40</th>\n",
       "      <td>8</td>\n",
       "      <td>351.0</td>\n",
       "      <td>153.0</td>\n",
       "      <td>4154</td>\n",
       "      <td>13.5</td>\n",
       "      <td>1971</td>\n",
       "      <td>5.952012</td>\n",
       "      <td>11</td>\n",
       "      <td>1</td>\n",
       "      <td>0</td>\n",
       "      <td>0</td>\n",
       "    </tr>\n",
       "    <tr>\n",
       "      <th>377</th>\n",
       "      <td>4</td>\n",
       "      <td>91.0</td>\n",
       "      <td>68.0</td>\n",
       "      <td>1970</td>\n",
       "      <td>17.6</td>\n",
       "      <td>1982</td>\n",
       "      <td>13.179455</td>\n",
       "      <td>14</td>\n",
       "      <td>0</td>\n",
       "      <td>0</td>\n",
       "      <td>1</td>\n",
       "    </tr>\n",
       "    <tr>\n",
       "      <th>382</th>\n",
       "      <td>4</td>\n",
       "      <td>108.0</td>\n",
       "      <td>70.0</td>\n",
       "      <td>2245</td>\n",
       "      <td>16.9</td>\n",
       "      <td>1982</td>\n",
       "      <td>14.454886</td>\n",
       "      <td>26</td>\n",
       "      <td>0</td>\n",
       "      <td>0</td>\n",
       "      <td>1</td>\n",
       "    </tr>\n",
       "  </tbody>\n",
       "</table>\n",
       "</div>"
      ],
      "text/plain": [
       "     cylinders  displacement  horsepower  weight  acceleration  year  \\\n",
       "329          4          91.0        67.0    1850          13.8  1980   \n",
       "260          6         225.0       110.0    3620          18.7  1978   \n",
       "367          4         112.0        88.0    2605          19.6  1982   \n",
       "86           8         304.0       150.0    3672          11.5  1973   \n",
       "253          6         200.0        95.0    3155          18.2  1978   \n",
       "104          8         400.0       167.0    4906          12.5  1973   \n",
       "334          3          70.0       100.0    2420          12.5  1980   \n",
       "215          8         318.0       150.0    3755          14.0  1976   \n",
       "58           4          97.5        80.0    2126          17.0  1972   \n",
       "232          8         351.0       149.0    4335          14.5  1977   \n",
       "94           8         440.0       215.0    4735          11.0  1973   \n",
       "2            8         318.0       150.0    3436          11.0  1970   \n",
       "324          4          85.0        65.0    2110          19.2  1980   \n",
       "223          8         318.0       145.0    4140          13.7  1977   \n",
       "44           8         400.0       175.0    5140          12.0  1971   \n",
       "148          4         116.0        75.0    2246          14.0  1974   \n",
       "357          4         119.0       100.0    2615          14.8  1981   \n",
       "40           8         351.0       153.0    4154          13.5  1971   \n",
       "377          4          91.0        68.0    1970          17.6  1982   \n",
       "382          4         108.0        70.0    2245          16.9  1982   \n",
       "\n",
       "     Kilometer_per_liter  Manufacturer  origin_1  origin_2  origin_3  \n",
       "329            18.961409            13         0         0         1  \n",
       "260             7.907673             9         1         0         0  \n",
       "367            11.904024             6         1         0         0  \n",
       "86              5.952012             0         1         0         0  \n",
       "253             8.715446             6         1         0         0  \n",
       "104             5.101724            11         1         0         0  \n",
       "334            10.075906            14         0         0         1  \n",
       "215             5.526868             9         1         0         0  \n",
       "58             10.628593             9         1         0         0  \n",
       "232             6.802299            11         1         0         0  \n",
       "94              5.526868             7         1         0         0  \n",
       "2               7.652587            21         1         0         0  \n",
       "324            17.345863             8         0         0         1  \n",
       "223             6.589727             9         1         0         0  \n",
       "44              5.526868            22         1         0         0  \n",
       "148            11.053736            10         0         1         0  \n",
       "357            13.987228             8         0         0         1  \n",
       "40              5.952012            11         1         0         0  \n",
       "377            13.179455            14         0         0         1  \n",
       "382            14.454886            26         0         0         1  "
      ]
     },
     "execution_count": 163,
     "metadata": {},
     "output_type": "execute_result"
    }
   ],
   "source": [
    "df1.sample(20)"
   ]
  },
  {
   "cell_type": "code",
   "execution_count": 165,
   "id": "e1c8a3b2",
   "metadata": {},
   "outputs": [],
   "source": [
    "x=df1.drop(['Kilometer_per_liter'],axis=1)\n",
    "y=df1.Kilometer_per_liter"
   ]
  },
  {
   "cell_type": "code",
   "execution_count": 167,
   "id": "791af282",
   "metadata": {},
   "outputs": [],
   "source": [
    "x_train,x_test,y_train,y_test=train_test_split(x,y,test_size=0.3,random_state=1)"
   ]
  },
  {
   "cell_type": "code",
   "execution_count": 168,
   "id": "45ee7b54",
   "metadata": {},
   "outputs": [
    {
     "data": {
      "text/html": [
       "<style>#sk-container-id-1 {color: black;background-color: white;}#sk-container-id-1 pre{padding: 0;}#sk-container-id-1 div.sk-toggleable {background-color: white;}#sk-container-id-1 label.sk-toggleable__label {cursor: pointer;display: block;width: 100%;margin-bottom: 0;padding: 0.3em;box-sizing: border-box;text-align: center;}#sk-container-id-1 label.sk-toggleable__label-arrow:before {content: \"▸\";float: left;margin-right: 0.25em;color: #696969;}#sk-container-id-1 label.sk-toggleable__label-arrow:hover:before {color: black;}#sk-container-id-1 div.sk-estimator:hover label.sk-toggleable__label-arrow:before {color: black;}#sk-container-id-1 div.sk-toggleable__content {max-height: 0;max-width: 0;overflow: hidden;text-align: left;background-color: #f0f8ff;}#sk-container-id-1 div.sk-toggleable__content pre {margin: 0.2em;color: black;border-radius: 0.25em;background-color: #f0f8ff;}#sk-container-id-1 input.sk-toggleable__control:checked~div.sk-toggleable__content {max-height: 200px;max-width: 100%;overflow: auto;}#sk-container-id-1 input.sk-toggleable__control:checked~label.sk-toggleable__label-arrow:before {content: \"▾\";}#sk-container-id-1 div.sk-estimator input.sk-toggleable__control:checked~label.sk-toggleable__label {background-color: #d4ebff;}#sk-container-id-1 div.sk-label input.sk-toggleable__control:checked~label.sk-toggleable__label {background-color: #d4ebff;}#sk-container-id-1 input.sk-hidden--visually {border: 0;clip: rect(1px 1px 1px 1px);clip: rect(1px, 1px, 1px, 1px);height: 1px;margin: -1px;overflow: hidden;padding: 0;position: absolute;width: 1px;}#sk-container-id-1 div.sk-estimator {font-family: monospace;background-color: #f0f8ff;border: 1px dotted black;border-radius: 0.25em;box-sizing: border-box;margin-bottom: 0.5em;}#sk-container-id-1 div.sk-estimator:hover {background-color: #d4ebff;}#sk-container-id-1 div.sk-parallel-item::after {content: \"\";width: 100%;border-bottom: 1px solid gray;flex-grow: 1;}#sk-container-id-1 div.sk-label:hover label.sk-toggleable__label {background-color: #d4ebff;}#sk-container-id-1 div.sk-serial::before {content: \"\";position: absolute;border-left: 1px solid gray;box-sizing: border-box;top: 0;bottom: 0;left: 50%;z-index: 0;}#sk-container-id-1 div.sk-serial {display: flex;flex-direction: column;align-items: center;background-color: white;padding-right: 0.2em;padding-left: 0.2em;position: relative;}#sk-container-id-1 div.sk-item {position: relative;z-index: 1;}#sk-container-id-1 div.sk-parallel {display: flex;align-items: stretch;justify-content: center;background-color: white;position: relative;}#sk-container-id-1 div.sk-item::before, #sk-container-id-1 div.sk-parallel-item::before {content: \"\";position: absolute;border-left: 1px solid gray;box-sizing: border-box;top: 0;bottom: 0;left: 50%;z-index: -1;}#sk-container-id-1 div.sk-parallel-item {display: flex;flex-direction: column;z-index: 1;position: relative;background-color: white;}#sk-container-id-1 div.sk-parallel-item:first-child::after {align-self: flex-end;width: 50%;}#sk-container-id-1 div.sk-parallel-item:last-child::after {align-self: flex-start;width: 50%;}#sk-container-id-1 div.sk-parallel-item:only-child::after {width: 0;}#sk-container-id-1 div.sk-dashed-wrapped {border: 1px dashed gray;margin: 0 0.4em 0.5em 0.4em;box-sizing: border-box;padding-bottom: 0.4em;background-color: white;}#sk-container-id-1 div.sk-label label {font-family: monospace;font-weight: bold;display: inline-block;line-height: 1.2em;}#sk-container-id-1 div.sk-label-container {text-align: center;}#sk-container-id-1 div.sk-container {/* jupyter's `normalize.less` sets `[hidden] { display: none; }` but bootstrap.min.css set `[hidden] { display: none !important; }` so we also need the `!important` here to be able to override the default hidden behavior on the sphinx rendered scikit-learn.org. See: https://github.com/scikit-learn/scikit-learn/issues/21755 */display: inline-block !important;position: relative;}#sk-container-id-1 div.sk-text-repr-fallback {display: none;}</style><div id=\"sk-container-id-1\" class=\"sk-top-container\"><div class=\"sk-text-repr-fallback\"><pre>LinearRegression()</pre><b>In a Jupyter environment, please rerun this cell to show the HTML representation or trust the notebook. <br />On GitHub, the HTML representation is unable to render, please try loading this page with nbviewer.org.</b></div><div class=\"sk-container\" hidden><div class=\"sk-item\"><div class=\"sk-estimator sk-toggleable\"><input class=\"sk-toggleable__control sk-hidden--visually\" id=\"sk-estimator-id-1\" type=\"checkbox\" checked><label for=\"sk-estimator-id-1\" class=\"sk-toggleable__label sk-toggleable__label-arrow\">LinearRegression</label><div class=\"sk-toggleable__content\"><pre>LinearRegression()</pre></div></div></div></div></div>"
      ],
      "text/plain": [
       "LinearRegression()"
      ]
     },
     "execution_count": 168,
     "metadata": {},
     "output_type": "execute_result"
    }
   ],
   "source": [
    "model=LinearRegression()\n",
    "model.fit(x_train,y_train)"
   ]
  },
  {
   "cell_type": "code",
   "execution_count": 169,
   "id": "6ecfb7c5",
   "metadata": {},
   "outputs": [
    {
     "data": {
      "text/plain": [
       "0.8147067242488426"
      ]
     },
     "execution_count": 169,
     "metadata": {},
     "output_type": "execute_result"
    }
   ],
   "source": [
    "model.score(x_train,y_train)"
   ]
  },
  {
   "cell_type": "code",
   "execution_count": 170,
   "id": "8123f51e",
   "metadata": {},
   "outputs": [
    {
     "data": {
      "text/plain": [
       "0.8448784995529226"
      ]
     },
     "execution_count": 170,
     "metadata": {},
     "output_type": "execute_result"
    }
   ],
   "source": [
    "model.score(x_test,y_test)"
   ]
  },
  {
   "cell_type": "markdown",
   "id": "4b874c64",
   "metadata": {},
   "source": [
    "### Approach 2\n",
    "Dropping the columns Manufacturer and Model and encoding the column Origin"
   ]
  },
  {
   "cell_type": "code",
   "execution_count": 171,
   "id": "6da555e9",
   "metadata": {},
   "outputs": [],
   "source": [
    "df2=df.copy()"
   ]
  },
  {
   "cell_type": "code",
   "execution_count": 172,
   "id": "3d651852",
   "metadata": {},
   "outputs": [],
   "source": [
    "df2.drop(['Manufacturer','Model'],axis=1,inplace=True)"
   ]
  },
  {
   "cell_type": "code",
   "execution_count": 173,
   "id": "955e116c",
   "metadata": {},
   "outputs": [],
   "source": [
    "df2=pd.get_dummies(df2,columns=['origin'])"
   ]
  },
  {
   "cell_type": "code",
   "execution_count": 177,
   "id": "e6d47cd4",
   "metadata": {},
   "outputs": [],
   "source": [
    "x2=df2.drop(['Kilometer_per_liter'],axis=1)\n",
    "y2=df2.Kilometer_per_liter"
   ]
  },
  {
   "cell_type": "code",
   "execution_count": 178,
   "id": "5ec7c03e",
   "metadata": {},
   "outputs": [],
   "source": [
    "x2_train,x2_test,y2_train,y2_test=train_test_split(x2,y2,test_size=0.3,random_state=1)"
   ]
  },
  {
   "cell_type": "code",
   "execution_count": 179,
   "id": "7dfb5fb5",
   "metadata": {},
   "outputs": [
    {
     "data": {
      "text/html": [
       "<style>#sk-container-id-3 {color: black;background-color: white;}#sk-container-id-3 pre{padding: 0;}#sk-container-id-3 div.sk-toggleable {background-color: white;}#sk-container-id-3 label.sk-toggleable__label {cursor: pointer;display: block;width: 100%;margin-bottom: 0;padding: 0.3em;box-sizing: border-box;text-align: center;}#sk-container-id-3 label.sk-toggleable__label-arrow:before {content: \"▸\";float: left;margin-right: 0.25em;color: #696969;}#sk-container-id-3 label.sk-toggleable__label-arrow:hover:before {color: black;}#sk-container-id-3 div.sk-estimator:hover label.sk-toggleable__label-arrow:before {color: black;}#sk-container-id-3 div.sk-toggleable__content {max-height: 0;max-width: 0;overflow: hidden;text-align: left;background-color: #f0f8ff;}#sk-container-id-3 div.sk-toggleable__content pre {margin: 0.2em;color: black;border-radius: 0.25em;background-color: #f0f8ff;}#sk-container-id-3 input.sk-toggleable__control:checked~div.sk-toggleable__content {max-height: 200px;max-width: 100%;overflow: auto;}#sk-container-id-3 input.sk-toggleable__control:checked~label.sk-toggleable__label-arrow:before {content: \"▾\";}#sk-container-id-3 div.sk-estimator input.sk-toggleable__control:checked~label.sk-toggleable__label {background-color: #d4ebff;}#sk-container-id-3 div.sk-label input.sk-toggleable__control:checked~label.sk-toggleable__label {background-color: #d4ebff;}#sk-container-id-3 input.sk-hidden--visually {border: 0;clip: rect(1px 1px 1px 1px);clip: rect(1px, 1px, 1px, 1px);height: 1px;margin: -1px;overflow: hidden;padding: 0;position: absolute;width: 1px;}#sk-container-id-3 div.sk-estimator {font-family: monospace;background-color: #f0f8ff;border: 1px dotted black;border-radius: 0.25em;box-sizing: border-box;margin-bottom: 0.5em;}#sk-container-id-3 div.sk-estimator:hover {background-color: #d4ebff;}#sk-container-id-3 div.sk-parallel-item::after {content: \"\";width: 100%;border-bottom: 1px solid gray;flex-grow: 1;}#sk-container-id-3 div.sk-label:hover label.sk-toggleable__label {background-color: #d4ebff;}#sk-container-id-3 div.sk-serial::before {content: \"\";position: absolute;border-left: 1px solid gray;box-sizing: border-box;top: 0;bottom: 0;left: 50%;z-index: 0;}#sk-container-id-3 div.sk-serial {display: flex;flex-direction: column;align-items: center;background-color: white;padding-right: 0.2em;padding-left: 0.2em;position: relative;}#sk-container-id-3 div.sk-item {position: relative;z-index: 1;}#sk-container-id-3 div.sk-parallel {display: flex;align-items: stretch;justify-content: center;background-color: white;position: relative;}#sk-container-id-3 div.sk-item::before, #sk-container-id-3 div.sk-parallel-item::before {content: \"\";position: absolute;border-left: 1px solid gray;box-sizing: border-box;top: 0;bottom: 0;left: 50%;z-index: -1;}#sk-container-id-3 div.sk-parallel-item {display: flex;flex-direction: column;z-index: 1;position: relative;background-color: white;}#sk-container-id-3 div.sk-parallel-item:first-child::after {align-self: flex-end;width: 50%;}#sk-container-id-3 div.sk-parallel-item:last-child::after {align-self: flex-start;width: 50%;}#sk-container-id-3 div.sk-parallel-item:only-child::after {width: 0;}#sk-container-id-3 div.sk-dashed-wrapped {border: 1px dashed gray;margin: 0 0.4em 0.5em 0.4em;box-sizing: border-box;padding-bottom: 0.4em;background-color: white;}#sk-container-id-3 div.sk-label label {font-family: monospace;font-weight: bold;display: inline-block;line-height: 1.2em;}#sk-container-id-3 div.sk-label-container {text-align: center;}#sk-container-id-3 div.sk-container {/* jupyter's `normalize.less` sets `[hidden] { display: none; }` but bootstrap.min.css set `[hidden] { display: none !important; }` so we also need the `!important` here to be able to override the default hidden behavior on the sphinx rendered scikit-learn.org. See: https://github.com/scikit-learn/scikit-learn/issues/21755 */display: inline-block !important;position: relative;}#sk-container-id-3 div.sk-text-repr-fallback {display: none;}</style><div id=\"sk-container-id-3\" class=\"sk-top-container\"><div class=\"sk-text-repr-fallback\"><pre>LinearRegression()</pre><b>In a Jupyter environment, please rerun this cell to show the HTML representation or trust the notebook. <br />On GitHub, the HTML representation is unable to render, please try loading this page with nbviewer.org.</b></div><div class=\"sk-container\" hidden><div class=\"sk-item\"><div class=\"sk-estimator sk-toggleable\"><input class=\"sk-toggleable__control sk-hidden--visually\" id=\"sk-estimator-id-3\" type=\"checkbox\" checked><label for=\"sk-estimator-id-3\" class=\"sk-toggleable__label sk-toggleable__label-arrow\">LinearRegression</label><div class=\"sk-toggleable__content\"><pre>LinearRegression()</pre></div></div></div></div></div>"
      ],
      "text/plain": [
       "LinearRegression()"
      ]
     },
     "execution_count": 179,
     "metadata": {},
     "output_type": "execute_result"
    }
   ],
   "source": [
    "model=LinearRegression()\n",
    "model.fit(x2_train,y2_train)"
   ]
  },
  {
   "cell_type": "code",
   "execution_count": 180,
   "id": "113aa9fc",
   "metadata": {},
   "outputs": [
    {
     "data": {
      "text/plain": [
       "0.8141025501508696"
      ]
     },
     "execution_count": 180,
     "metadata": {},
     "output_type": "execute_result"
    }
   ],
   "source": [
    "model.score(x2_train,y2_train)"
   ]
  },
  {
   "cell_type": "code",
   "execution_count": 181,
   "id": "bfc0c46d",
   "metadata": {},
   "outputs": [
    {
     "data": {
      "text/plain": [
       "0.8433135133439611"
      ]
     },
     "execution_count": 181,
     "metadata": {},
     "output_type": "execute_result"
    }
   ],
   "source": [
    "model.score(x2_test,y2_test)"
   ]
  },
  {
   "cell_type": "markdown",
   "id": "aef595cf",
   "metadata": {},
   "source": [
    "## Log transformation on dependent variable "
   ]
  },
  {
   "cell_type": "code",
   "execution_count": 182,
   "id": "8241529e",
   "metadata": {},
   "outputs": [],
   "source": [
    "df1.Kilometer_per_liter=np.log(df1.Kilometer_per_liter)"
   ]
  },
  {
   "cell_type": "code",
   "execution_count": 183,
   "id": "11ccc131",
   "metadata": {},
   "outputs": [
    {
     "data": {
      "text/plain": [
       "<Axes: xlabel='Kilometer_per_liter', ylabel='Density'>"
      ]
     },
     "execution_count": 183,
     "metadata": {},
     "output_type": "execute_result"
    },
    {
     "data": {
      "image/png": "[encoded data removed]",
      "text/plain": [
       "<Figure size 640x480 with 1 Axes>"
      ]
     },
     "metadata": {},
     "output_type": "display_data"
    }
   ],
   "source": [
    "sns.distplot(df1.Kilometer_per_liter)"
   ]
  },
  {
   "cell_type": "code",
   "execution_count": 184,
   "id": "215af28a",
   "metadata": {},
   "outputs": [
    {
     "data": {
      "text/plain": [
       "-0.13649360910230762"
      ]
     },
     "execution_count": 184,
     "metadata": {},
     "output_type": "execute_result"
    }
   ],
   "source": [
    "df1.Kilometer_per_liter.skew()"
   ]
  },
  {
   "cell_type": "markdown",
   "id": "26f16038",
   "metadata": {},
   "source": [
    "### Approach 3\n",
    "Approach 1 using log data"
   ]
  },
  {
   "cell_type": "code",
   "execution_count": 447,
   "id": "29f51133",
   "metadata": {},
   "outputs": [],
   "source": [
    "x3=df1.drop(['Kilometer_per_liter'],axis=1)\n",
    "y3=df1.Kilometer_per_liter"
   ]
  },
  {
   "cell_type": "code",
   "execution_count": 448,
   "id": "61575b9f",
   "metadata": {},
   "outputs": [],
   "source": [
    "x3_train,x3_test,y3_train,y3_test=train_test_split(x3,y3,test_size=0.3,random_state=1)"
   ]
  },
  {
   "cell_type": "code",
   "execution_count": 449,
   "id": "fa77fa5c",
   "metadata": {},
   "outputs": [
    {
     "data": {
      "text/html": [
       "<style>#sk-container-id-36 {color: black;background-color: white;}#sk-container-id-36 pre{padding: 0;}#sk-container-id-36 div.sk-toggleable {background-color: white;}#sk-container-id-36 label.sk-toggleable__label {cursor: pointer;display: block;width: 100%;margin-bottom: 0;padding: 0.3em;box-sizing: border-box;text-align: center;}#sk-container-id-36 label.sk-toggleable__label-arrow:before {content: \"▸\";float: left;margin-right: 0.25em;color: #696969;}#sk-container-id-36 label.sk-toggleable__label-arrow:hover:before {color: black;}#sk-container-id-36 div.sk-estimator:hover label.sk-toggleable__label-arrow:before {color: black;}#sk-container-id-36 div.sk-toggleable__content {max-height: 0;max-width: 0;overflow: hidden;text-align: left;background-color: #f0f8ff;}#sk-container-id-36 div.sk-toggleable__content pre {margin: 0.2em;color: black;border-radius: 0.25em;background-color: #f0f8ff;}#sk-container-id-36 input.sk-toggleable__control:checked~div.sk-toggleable__content {max-height: 200px;max-width: 100%;overflow: auto;}#sk-container-id-36 input.sk-toggleable__control:checked~label.sk-toggleable__label-arrow:before {content: \"▾\";}#sk-container-id-36 div.sk-estimator input.sk-toggleable__control:checked~label.sk-toggleable__label {background-color: #d4ebff;}#sk-container-id-36 div.sk-label input.sk-toggleable__control:checked~label.sk-toggleable__label {background-color: #d4ebff;}#sk-container-id-36 input.sk-hidden--visually {border: 0;clip: rect(1px 1px 1px 1px);clip: rect(1px, 1px, 1px, 1px);height: 1px;margin: -1px;overflow: hidden;padding: 0;position: absolute;width: 1px;}#sk-container-id-36 div.sk-estimator {font-family: monospace;background-color: #f0f8ff;border: 1px dotted black;border-radius: 0.25em;box-sizing: border-box;margin-bottom: 0.5em;}#sk-container-id-36 div.sk-estimator:hover {background-color: #d4ebff;}#sk-container-id-36 div.sk-parallel-item::after {content: \"\";width: 100%;border-bottom: 1px solid gray;flex-grow: 1;}#sk-container-id-36 div.sk-label:hover label.sk-toggleable__label {background-color: #d4ebff;}#sk-container-id-36 div.sk-serial::before {content: \"\";position: absolute;border-left: 1px solid gray;box-sizing: border-box;top: 0;bottom: 0;left: 50%;z-index: 0;}#sk-container-id-36 div.sk-serial {display: flex;flex-direction: column;align-items: center;background-color: white;padding-right: 0.2em;padding-left: 0.2em;position: relative;}#sk-container-id-36 div.sk-item {position: relative;z-index: 1;}#sk-container-id-36 div.sk-parallel {display: flex;align-items: stretch;justify-content: center;background-color: white;position: relative;}#sk-container-id-36 div.sk-item::before, #sk-container-id-36 div.sk-parallel-item::before {content: \"\";position: absolute;border-left: 1px solid gray;box-sizing: border-box;top: 0;bottom: 0;left: 50%;z-index: -1;}#sk-container-id-36 div.sk-parallel-item {display: flex;flex-direction: column;z-index: 1;position: relative;background-color: white;}#sk-container-id-36 div.sk-parallel-item:first-child::after {align-self: flex-end;width: 50%;}#sk-container-id-36 div.sk-parallel-item:last-child::after {align-self: flex-start;width: 50%;}#sk-container-id-36 div.sk-parallel-item:only-child::after {width: 0;}#sk-container-id-36 div.sk-dashed-wrapped {border: 1px dashed gray;margin: 0 0.4em 0.5em 0.4em;box-sizing: border-box;padding-bottom: 0.4em;background-color: white;}#sk-container-id-36 div.sk-label label {font-family: monospace;font-weight: bold;display: inline-block;line-height: 1.2em;}#sk-container-id-36 div.sk-label-container {text-align: center;}#sk-container-id-36 div.sk-container {/* jupyter's `normalize.less` sets `[hidden] { display: none; }` but bootstrap.min.css set `[hidden] { display: none !important; }` so we also need the `!important` here to be able to override the default hidden behavior on the sphinx rendered scikit-learn.org. See: https://github.com/scikit-learn/scikit-learn/issues/21755 */display: inline-block !important;position: relative;}#sk-container-id-36 div.sk-text-repr-fallback {display: none;}</style><div id=\"sk-container-id-36\" class=\"sk-top-container\"><div class=\"sk-text-repr-fallback\"><pre>LinearRegression()</pre><b>In a Jupyter environment, please rerun this cell to show the HTML representation or trust the notebook. <br />On GitHub, the HTML representation is unable to render, please try loading this page with nbviewer.org.</b></div><div class=\"sk-container\" hidden><div class=\"sk-item\"><div class=\"sk-estimator sk-toggleable\"><input class=\"sk-toggleable__control sk-hidden--visually\" id=\"sk-estimator-id-36\" type=\"checkbox\" checked><label for=\"sk-estimator-id-36\" class=\"sk-toggleable__label sk-toggleable__label-arrow\">LinearRegression</label><div class=\"sk-toggleable__content\"><pre>LinearRegression()</pre></div></div></div></div></div>"
      ],
      "text/plain": [
       "LinearRegression()"
      ]
     },
     "execution_count": 449,
     "metadata": {},
     "output_type": "execute_result"
    }
   ],
   "source": [
    "model_a3=LinearRegression()\n",
    "model_a3.fit(x3_train,y3_train)"
   ]
  },
  {
   "cell_type": "code",
   "execution_count": 450,
   "id": "e5c12db0",
   "metadata": {},
   "outputs": [
    {
     "data": {
      "text/plain": [
       "0.8759659462040733"
      ]
     },
     "execution_count": 450,
     "metadata": {},
     "output_type": "execute_result"
    }
   ],
   "source": [
    "model_a3.score(x3_train,y3_train)"
   ]
  },
  {
   "cell_type": "code",
   "execution_count": 451,
   "id": "0a2ee0aa",
   "metadata": {},
   "outputs": [
    {
     "data": {
      "text/plain": [
       "0.8930090998356024"
      ]
     },
     "execution_count": 451,
     "metadata": {},
     "output_type": "execute_result"
    }
   ],
   "source": [
    "model_a3.score(x3_test,y3_test)"
   ]
  },
  {
   "cell_type": "markdown",
   "id": "3ee5c50b",
   "metadata": {},
   "source": [
    "### Approach 4\n",
    "Approach 2 using log data"
   ]
  },
  {
   "cell_type": "code",
   "execution_count": 190,
   "id": "ca759c25",
   "metadata": {},
   "outputs": [],
   "source": [
    "df2.Kilometer_per_liter=np.log(df2.Kilometer_per_liter)"
   ]
  },
  {
   "cell_type": "code",
   "execution_count": 191,
   "id": "97a83b51",
   "metadata": {},
   "outputs": [
    {
     "data": {
      "text/plain": [
       "<Axes: xlabel='Kilometer_per_liter', ylabel='Density'>"
      ]
     },
     "execution_count": 191,
     "metadata": {},
     "output_type": "execute_result"
    },
    {
     "data": {
      "image/png": "[encoded data removed]",
      "text/plain": [
       "<Figure size 640x480 with 1 Axes>"
      ]
     },
     "metadata": {},
     "output_type": "display_data"
    }
   ],
   "source": [
    "sns.distplot(df2.Kilometer_per_liter)"
   ]
  },
  {
   "cell_type": "code",
   "execution_count": 194,
   "id": "6bfb0f8b",
   "metadata": {},
   "outputs": [],
   "source": [
    "x4=df2.drop(['Kilometer_per_liter'],axis=1)\n",
    "y4=df2.Kilometer_per_liter"
   ]
  },
  {
   "cell_type": "code",
   "execution_count": 195,
   "id": "67aba1f8",
   "metadata": {},
   "outputs": [],
   "source": [
    "x4_train,x4_test,y4_train,y4_test=train_test_split(x4,y4,test_size=0.3,random_state=1)"
   ]
  },
  {
   "cell_type": "code",
   "execution_count": 196,
   "id": "a17168d4",
   "metadata": {},
   "outputs": [
    {
     "data": {
      "text/html": [
       "<style>#sk-container-id-5 {color: black;background-color: white;}#sk-container-id-5 pre{padding: 0;}#sk-container-id-5 div.sk-toggleable {background-color: white;}#sk-container-id-5 label.sk-toggleable__label {cursor: pointer;display: block;width: 100%;margin-bottom: 0;padding: 0.3em;box-sizing: border-box;text-align: center;}#sk-container-id-5 label.sk-toggleable__label-arrow:before {content: \"▸\";float: left;margin-right: 0.25em;color: #696969;}#sk-container-id-5 label.sk-toggleable__label-arrow:hover:before {color: black;}#sk-container-id-5 div.sk-estimator:hover label.sk-toggleable__label-arrow:before {color: black;}#sk-container-id-5 div.sk-toggleable__content {max-height: 0;max-width: 0;overflow: hidden;text-align: left;background-color: #f0f8ff;}#sk-container-id-5 div.sk-toggleable__content pre {margin: 0.2em;color: black;border-radius: 0.25em;background-color: #f0f8ff;}#sk-container-id-5 input.sk-toggleable__control:checked~div.sk-toggleable__content {max-height: 200px;max-width: 100%;overflow: auto;}#sk-container-id-5 input.sk-toggleable__control:checked~label.sk-toggleable__label-arrow:before {content: \"▾\";}#sk-container-id-5 div.sk-estimator input.sk-toggleable__control:checked~label.sk-toggleable__label {background-color: #d4ebff;}#sk-container-id-5 div.sk-label input.sk-toggleable__control:checked~label.sk-toggleable__label {background-color: #d4ebff;}#sk-container-id-5 input.sk-hidden--visually {border: 0;clip: rect(1px 1px 1px 1px);clip: rect(1px, 1px, 1px, 1px);height: 1px;margin: -1px;overflow: hidden;padding: 0;position: absolute;width: 1px;}#sk-container-id-5 div.sk-estimator {font-family: monospace;background-color: #f0f8ff;border: 1px dotted black;border-radius: 0.25em;box-sizing: border-box;margin-bottom: 0.5em;}#sk-container-id-5 div.sk-estimator:hover {background-color: #d4ebff;}#sk-container-id-5 div.sk-parallel-item::after {content: \"\";width: 100%;border-bottom: 1px solid gray;flex-grow: 1;}#sk-container-id-5 div.sk-label:hover label.sk-toggleable__label {background-color: #d4ebff;}#sk-container-id-5 div.sk-serial::before {content: \"\";position: absolute;border-left: 1px solid gray;box-sizing: border-box;top: 0;bottom: 0;left: 50%;z-index: 0;}#sk-container-id-5 div.sk-serial {display: flex;flex-direction: column;align-items: center;background-color: white;padding-right: 0.2em;padding-left: 0.2em;position: relative;}#sk-container-id-5 div.sk-item {position: relative;z-index: 1;}#sk-container-id-5 div.sk-parallel {display: flex;align-items: stretch;justify-content: center;background-color: white;position: relative;}#sk-container-id-5 div.sk-item::before, #sk-container-id-5 div.sk-parallel-item::before {content: \"\";position: absolute;border-left: 1px solid gray;box-sizing: border-box;top: 0;bottom: 0;left: 50%;z-index: -1;}#sk-container-id-5 div.sk-parallel-item {display: flex;flex-direction: column;z-index: 1;position: relative;background-color: white;}#sk-container-id-5 div.sk-parallel-item:first-child::after {align-self: flex-end;width: 50%;}#sk-container-id-5 div.sk-parallel-item:last-child::after {align-self: flex-start;width: 50%;}#sk-container-id-5 div.sk-parallel-item:only-child::after {width: 0;}#sk-container-id-5 div.sk-dashed-wrapped {border: 1px dashed gray;margin: 0 0.4em 0.5em 0.4em;box-sizing: border-box;padding-bottom: 0.4em;background-color: white;}#sk-container-id-5 div.sk-label label {font-family: monospace;font-weight: bold;display: inline-block;line-height: 1.2em;}#sk-container-id-5 div.sk-label-container {text-align: center;}#sk-container-id-5 div.sk-container {/* jupyter's `normalize.less` sets `[hidden] { display: none; }` but bootstrap.min.css set `[hidden] { display: none !important; }` so we also need the `!important` here to be able to override the default hidden behavior on the sphinx rendered scikit-learn.org. See: https://github.com/scikit-learn/scikit-learn/issues/21755 */display: inline-block !important;position: relative;}#sk-container-id-5 div.sk-text-repr-fallback {display: none;}</style><div id=\"sk-container-id-5\" class=\"sk-top-container\"><div class=\"sk-text-repr-fallback\"><pre>LinearRegression()</pre><b>In a Jupyter environment, please rerun this cell to show the HTML representation or trust the notebook. <br />On GitHub, the HTML representation is unable to render, please try loading this page with nbviewer.org.</b></div><div class=\"sk-container\" hidden><div class=\"sk-item\"><div class=\"sk-estimator sk-toggleable\"><input class=\"sk-toggleable__control sk-hidden--visually\" id=\"sk-estimator-id-5\" type=\"checkbox\" checked><label for=\"sk-estimator-id-5\" class=\"sk-toggleable__label sk-toggleable__label-arrow\">LinearRegression</label><div class=\"sk-toggleable__content\"><pre>LinearRegression()</pre></div></div></div></div></div>"
      ],
      "text/plain": [
       "LinearRegression()"
      ]
     },
     "execution_count": 196,
     "metadata": {},
     "output_type": "execute_result"
    }
   ],
   "source": [
    "model=LinearRegression()\n",
    "model.fit(x4_train,y4_train)"
   ]
  },
  {
   "cell_type": "code",
   "execution_count": 197,
   "id": "752271f3",
   "metadata": {},
   "outputs": [
    {
     "data": {
      "text/plain": [
       "0.8754833909857919"
      ]
     },
     "execution_count": 197,
     "metadata": {},
     "output_type": "execute_result"
    }
   ],
   "source": [
    "model.score(x4_train,y4_train)"
   ]
  },
  {
   "cell_type": "code",
   "execution_count": 198,
   "id": "cb21293d",
   "metadata": {},
   "outputs": [
    {
     "data": {
      "text/plain": [
       "0.8926765698625599"
      ]
     },
     "execution_count": 198,
     "metadata": {},
     "output_type": "execute_result"
    }
   ],
   "source": [
    "model.score(x4_test,y4_test)"
   ]
  },
  {
   "cell_type": "markdown",
   "id": "0520572f",
   "metadata": {},
   "source": [
    "## Polynomial Regression"
   ]
  },
  {
   "cell_type": "code",
   "execution_count": 237,
   "id": "5ca84831",
   "metadata": {},
   "outputs": [],
   "source": [
    "poly=PolynomialFeatures(degree=2,interaction_only=True)\n",
    "x_train_p=poly.fit_transform(x4_train)\n",
    "x_test_p=poly.fit_transform(x4_test)"
   ]
  },
  {
   "cell_type": "code",
   "execution_count": 238,
   "id": "fd8305b9",
   "metadata": {},
   "outputs": [
    {
     "data": {
      "text/html": [
       "<style>#sk-container-id-15 {color: black;background-color: white;}#sk-container-id-15 pre{padding: 0;}#sk-container-id-15 div.sk-toggleable {background-color: white;}#sk-container-id-15 label.sk-toggleable__label {cursor: pointer;display: block;width: 100%;margin-bottom: 0;padding: 0.3em;box-sizing: border-box;text-align: center;}#sk-container-id-15 label.sk-toggleable__label-arrow:before {content: \"▸\";float: left;margin-right: 0.25em;color: #696969;}#sk-container-id-15 label.sk-toggleable__label-arrow:hover:before {color: black;}#sk-container-id-15 div.sk-estimator:hover label.sk-toggleable__label-arrow:before {color: black;}#sk-container-id-15 div.sk-toggleable__content {max-height: 0;max-width: 0;overflow: hidden;text-align: left;background-color: #f0f8ff;}#sk-container-id-15 div.sk-toggleable__content pre {margin: 0.2em;color: black;border-radius: 0.25em;background-color: #f0f8ff;}#sk-container-id-15 input.sk-toggleable__control:checked~div.sk-toggleable__content {max-height: 200px;max-width: 100%;overflow: auto;}#sk-container-id-15 input.sk-toggleable__control:checked~label.sk-toggleable__label-arrow:before {content: \"▾\";}#sk-container-id-15 div.sk-estimator input.sk-toggleable__control:checked~label.sk-toggleable__label {background-color: #d4ebff;}#sk-container-id-15 div.sk-label input.sk-toggleable__control:checked~label.sk-toggleable__label {background-color: #d4ebff;}#sk-container-id-15 input.sk-hidden--visually {border: 0;clip: rect(1px 1px 1px 1px);clip: rect(1px, 1px, 1px, 1px);height: 1px;margin: -1px;overflow: hidden;padding: 0;position: absolute;width: 1px;}#sk-container-id-15 div.sk-estimator {font-family: monospace;background-color: #f0f8ff;border: 1px dotted black;border-radius: 0.25em;box-sizing: border-box;margin-bottom: 0.5em;}#sk-container-id-15 div.sk-estimator:hover {background-color: #d4ebff;}#sk-container-id-15 div.sk-parallel-item::after {content: \"\";width: 100%;border-bottom: 1px solid gray;flex-grow: 1;}#sk-container-id-15 div.sk-label:hover label.sk-toggleable__label {background-color: #d4ebff;}#sk-container-id-15 div.sk-serial::before {content: \"\";position: absolute;border-left: 1px solid gray;box-sizing: border-box;top: 0;bottom: 0;left: 50%;z-index: 0;}#sk-container-id-15 div.sk-serial {display: flex;flex-direction: column;align-items: center;background-color: white;padding-right: 0.2em;padding-left: 0.2em;position: relative;}#sk-container-id-15 div.sk-item {position: relative;z-index: 1;}#sk-container-id-15 div.sk-parallel {display: flex;align-items: stretch;justify-content: center;background-color: white;position: relative;}#sk-container-id-15 div.sk-item::before, #sk-container-id-15 div.sk-parallel-item::before {content: \"\";position: absolute;border-left: 1px solid gray;box-sizing: border-box;top: 0;bottom: 0;left: 50%;z-index: -1;}#sk-container-id-15 div.sk-parallel-item {display: flex;flex-direction: column;z-index: 1;position: relative;background-color: white;}#sk-container-id-15 div.sk-parallel-item:first-child::after {align-self: flex-end;width: 50%;}#sk-container-id-15 div.sk-parallel-item:last-child::after {align-self: flex-start;width: 50%;}#sk-container-id-15 div.sk-parallel-item:only-child::after {width: 0;}#sk-container-id-15 div.sk-dashed-wrapped {border: 1px dashed gray;margin: 0 0.4em 0.5em 0.4em;box-sizing: border-box;padding-bottom: 0.4em;background-color: white;}#sk-container-id-15 div.sk-label label {font-family: monospace;font-weight: bold;display: inline-block;line-height: 1.2em;}#sk-container-id-15 div.sk-label-container {text-align: center;}#sk-container-id-15 div.sk-container {/* jupyter's `normalize.less` sets `[hidden] { display: none; }` but bootstrap.min.css set `[hidden] { display: none !important; }` so we also need the `!important` here to be able to override the default hidden behavior on the sphinx rendered scikit-learn.org. See: https://github.com/scikit-learn/scikit-learn/issues/21755 */display: inline-block !important;position: relative;}#sk-container-id-15 div.sk-text-repr-fallback {display: none;}</style><div id=\"sk-container-id-15\" class=\"sk-top-container\"><div class=\"sk-text-repr-fallback\"><pre>LinearRegression()</pre><b>In a Jupyter environment, please rerun this cell to show the HTML representation or trust the notebook. <br />On GitHub, the HTML representation is unable to render, please try loading this page with nbviewer.org.</b></div><div class=\"sk-container\" hidden><div class=\"sk-item\"><div class=\"sk-estimator sk-toggleable\"><input class=\"sk-toggleable__control sk-hidden--visually\" id=\"sk-estimator-id-15\" type=\"checkbox\" checked><label for=\"sk-estimator-id-15\" class=\"sk-toggleable__label sk-toggleable__label-arrow\">LinearRegression</label><div class=\"sk-toggleable__content\"><pre>LinearRegression()</pre></div></div></div></div></div>"
      ],
      "text/plain": [
       "LinearRegression()"
      ]
     },
     "execution_count": 238,
     "metadata": {},
     "output_type": "execute_result"
    }
   ],
   "source": [
    "model_poly=LinearRegression()\n",
    "model_poly.fit(x_train_p,y_train)"
   ]
  },
  {
   "cell_type": "code",
   "execution_count": 239,
   "id": "2156b35b",
   "metadata": {},
   "outputs": [
    {
     "data": {
      "text/plain": [
       "0.9015443648681468"
      ]
     },
     "execution_count": 239,
     "metadata": {},
     "output_type": "execute_result"
    }
   ],
   "source": [
    "model_poly.score(x_train_p,y_train)"
   ]
  },
  {
   "cell_type": "code",
   "execution_count": 240,
   "id": "fcf47772",
   "metadata": {},
   "outputs": [
    {
     "data": {
      "text/plain": [
       "0.8650763367231838"
      ]
     },
     "execution_count": 240,
     "metadata": {},
     "output_type": "execute_result"
    }
   ],
   "source": [
    "model_poly.score(x_test_p,y_test)"
   ]
  },
  {
   "cell_type": "markdown",
   "id": "9a2b3fd3",
   "metadata": {},
   "source": [
    "### Analysis of cylinders"
   ]
  },
  {
   "cell_type": "code",
   "execution_count": 246,
   "id": "767a1c54",
   "metadata": {},
   "outputs": [
    {
     "data": {
      "text/plain": [
       "<Axes: xlabel='cylinders', ylabel='Count'>"
      ]
     },
     "execution_count": 246,
     "metadata": {},
     "output_type": "execute_result"
    },
    {
     "data": {
      "image/png": "[encoded data removed]",
      "text/plain": [
       "<Figure size 640x480 with 1 Axes>"
      ]
     },
     "metadata": {},
     "output_type": "display_data"
    }
   ],
   "source": [
    "sns.histplot(df.cylinders)"
   ]
  },
  {
   "cell_type": "code",
   "execution_count": 247,
   "id": "58debff4",
   "metadata": {},
   "outputs": [],
   "source": [
    "df.cylinders=df.cylinders.astype('object')"
   ]
  },
  {
   "cell_type": "code",
   "execution_count": 248,
   "id": "b4cd5100",
   "metadata": {},
   "outputs": [
    {
     "data": {
      "text/plain": [
       "1973    40\n",
       "1978    36\n",
       "1976    34\n",
       "1982    31\n",
       "1975    30\n",
       "1970    29\n",
       "1979    29\n",
       "1980    29\n",
       "1981    29\n",
       "1971    28\n",
       "1972    28\n",
       "1977    28\n",
       "1974    27\n",
       "Name: year, dtype: int64"
      ]
     },
     "execution_count": 248,
     "metadata": {},
     "output_type": "execute_result"
    }
   ],
   "source": [
    "df.year.value_counts()"
   ]
  },
  {
   "cell_type": "code",
   "execution_count": 259,
   "id": "21cd66c8",
   "metadata": {},
   "outputs": [
    {
     "data": {
      "text/plain": [
       "<Axes: xlabel='year', ylabel='count'>"
      ]
     },
     "execution_count": 259,
     "metadata": {},
     "output_type": "execute_result"
    },
    {
     "data": {
      "image/png": "[encoded data removed]",
      "text/plain": [
       "<Figure size 640x480 with 1 Axes>"
      ]
     },
     "metadata": {},
     "output_type": "display_data"
    }
   ],
   "source": [
    "sns.countplot(data=df,x='year')"
   ]
  },
  {
   "cell_type": "code",
   "execution_count": 268,
   "id": "6cf7d5ee",
   "metadata": {},
   "outputs": [
    {
     "data": {
      "image/png": "[encoded data removed]",
      "text/plain": [
       "<Figure size 600x400 with 1 Axes>"
      ]
     },
     "metadata": {},
     "output_type": "display_data"
    }
   ],
   "source": [
    "value_counts = df['year'].value_counts()\n",
    "\n",
    "# Get the maximum and minimum values\n",
    "max_value = value_counts.max()\n",
    "min_value = value_counts.min()\n",
    "\n",
    "# Plot the count of values in the 'Category' column using Matplotlib bar\n",
    "plt.figure(figsize=(6, 4))\n",
    "colors = ['red' if count == min_value else 'blue' if count == max_value else 'black' for count in value_counts.values]\n",
    "plt.bar(value_counts.index, value_counts.values, color=colors)\n",
    "\n",
    "plt.title('Count of year in Column')\n",
    "plt.xlabel('year')\n",
    "plt.ylabel('Count')\n",
    "plt.show()\n"
   ]
  },
  {
   "cell_type": "code",
   "execution_count": 266,
   "id": "f10ddc84",
   "metadata": {},
   "outputs": [
    {
     "data": {
      "text/plain": [
       "1    249\n",
       "3     79\n",
       "2     70\n",
       "Name: origin, dtype: int64"
      ]
     },
     "execution_count": 266,
     "metadata": {},
     "output_type": "execute_result"
    }
   ],
   "source": [
    "df.origin.value_counts()"
   ]
  },
  {
   "cell_type": "code",
   "execution_count": 269,
   "id": "adf5a0d4",
   "metadata": {},
   "outputs": [
    {
     "data": {
      "image/png": "[encoded data removed]",
      "text/plain": [
       "<Figure size 600x400 with 1 Axes>"
      ]
     },
     "metadata": {},
     "output_type": "display_data"
    }
   ],
   "source": [
    "value_counts = df['origin'].value_counts()\n",
    "\n",
    "# Get the maximum and minimum values\n",
    "max_value = value_counts.max()\n",
    "min_value = value_counts.min()\n",
    "\n",
    "# Plot the count of values in the 'Category' column using Matplotlib bar\n",
    "plt.figure(figsize=(6, 4))\n",
    "colors = ['red' if count == min_value else 'blue' if count == max_value else 'black' for count in value_counts.values]\n",
    "plt.bar(value_counts.index, value_counts.values, color=colors)\n",
    "\n",
    "plt.title('Count of origin in Column')\n",
    "plt.xlabel('origin')\n",
    "plt.ylabel('Count')\n",
    "plt.show()"
   ]
  },
  {
   "cell_type": "code",
   "execution_count": 270,
   "id": "5cf7a553",
   "metadata": {},
   "outputs": [
    {
     "data": {
      "text/plain": [
       "150.0    22\n",
       "90.0     20\n",
       "88.0     19\n",
       "110.0    18\n",
       "100.0    17\n",
       "75.0     14\n",
       "95.0     14\n",
       "105.0    12\n",
       "70.0     12\n",
       "67.0     12\n",
       "65.0     10\n",
       "97.0      9\n",
       "85.0      9\n",
       "80.0      7\n",
       "145.0     7\n",
       "140.0     7\n",
       "92.0      6\n",
       "68.0      6\n",
       "78.0      6\n",
       "84.0      6\n",
       "93.5      6\n",
       "72.0      6\n",
       "180.0     5\n",
       "71.0      5\n",
       "86.0      5\n",
       "115.0     5\n",
       "130.0     5\n",
       "60.0      5\n",
       "170.0     5\n",
       "175.0     5\n",
       "83.0      4\n",
       "120.0     4\n",
       "76.0      4\n",
       "165.0     4\n",
       "52.0      4\n",
       "190.0     3\n",
       "125.0     3\n",
       "215.0     3\n",
       "48.0      3\n",
       "63.0      3\n",
       "112.0     3\n",
       "225.0     3\n",
       "96.0      3\n",
       "69.0      3\n",
       "74.0      3\n",
       "129.0     2\n",
       "98.0      2\n",
       "198.0     2\n",
       "53.0      2\n",
       "81.0      2\n",
       "79.0      2\n",
       "153.0     2\n",
       "58.0      2\n",
       "62.0      2\n",
       "87.0      2\n",
       "46.0      2\n",
       "160.0     2\n",
       "155.0     2\n",
       "139.0     2\n",
       "66.0      1\n",
       "149.0     1\n",
       "132.0     1\n",
       "64.0      1\n",
       "116.0     1\n",
       "77.0      1\n",
       "89.0      1\n",
       "142.0     1\n",
       "135.0     1\n",
       "138.0     1\n",
       "133.0     1\n",
       "103.0     1\n",
       "107.0     1\n",
       "108.0     1\n",
       "102.0     1\n",
       "220.0     1\n",
       "113.0     1\n",
       "200.0     1\n",
       "210.0     1\n",
       "193.0     1\n",
       "54.0      1\n",
       "208.0     1\n",
       "137.0     1\n",
       "158.0     1\n",
       "167.0     1\n",
       "94.0      1\n",
       "230.0     1\n",
       "49.0      1\n",
       "91.0      1\n",
       "122.0     1\n",
       "61.0      1\n",
       "93.0      1\n",
       "148.0     1\n",
       "152.0     1\n",
       "82.0      1\n",
       "Name: horsepower, dtype: int64"
      ]
     },
     "execution_count": 270,
     "metadata": {},
     "output_type": "execute_result"
    }
   ],
   "source": [
    "df.horsepower.value_counts()"
   ]
  },
  {
   "cell_type": "code",
   "execution_count": 278,
   "id": "16237905",
   "metadata": {},
   "outputs": [
    {
     "data": {
      "image/png": "[encoded data removed]",
      "text/plain": [
       "<Figure size 640x480 with 1 Axes>"
      ]
     },
     "metadata": {},
     "output_type": "display_data"
    }
   ],
   "source": [
    "sns.histplot(data=df,x='horsepower',kde=True,color='purple')\n",
    "plt.show()"
   ]
  },
  {
   "cell_type": "code",
   "execution_count": 279,
   "id": "59510b4a",
   "metadata": {},
   "outputs": [
    {
     "data": {
      "text/plain": [
       "ford          51\n",
       "chevrolet     47\n",
       "plymouth      31\n",
       "amc           28\n",
       "dodge         28\n",
       "toyota        26\n",
       "datsun        23\n",
       "volkswagen    22\n",
       "buick         17\n",
       "pontiac       16\n",
       "honda         13\n",
       "mazda         12\n",
       "mercury       11\n",
       "oldsmobile    10\n",
       "fiat           8\n",
       "peugeot        8\n",
       "audi           7\n",
       "volvo          6\n",
       "chrysler       6\n",
       "renault        5\n",
       "saab           4\n",
       "opel           4\n",
       "subaru         4\n",
       "mercedes       3\n",
       "cadillac       2\n",
       "bmw            2\n",
       "capri          1\n",
       "hi             1\n",
       "triumph        1\n",
       "nissan         1\n",
       "Name: Manufacturer, dtype: int64"
      ]
     },
     "execution_count": 279,
     "metadata": {},
     "output_type": "execute_result"
    }
   ],
   "source": [
    "df.Manufacturer.value_counts()"
   ]
  },
  {
   "cell_type": "code",
   "execution_count": 282,
   "id": "3ea98143",
   "metadata": {},
   "outputs": [
    {
     "data": {
      "image/png": "[encoded data removed]",
      "text/plain": [
       "<Figure size 600x400 with 1 Axes>"
      ]
     },
     "metadata": {},
     "output_type": "display_data"
    }
   ],
   "source": [
    "value_counts = df['Manufacturer'].value_counts()\n",
    "\n",
    "# Get the maximum and minimum values\n",
    "max_value = value_counts.max()\n",
    "min_value = value_counts.min()\n",
    "\n",
    "# Plot the count of values in the 'Category' column using Matplotlib bar\n",
    "plt.figure(figsize=(6, 4))\n",
    "colors = ['red' if count == min_value else 'blue' if count == max_value else 'black' for count in value_counts.values]\n",
    "plt.bar(value_counts.index, value_counts.values, color=colors)\n",
    "\n",
    "plt.title('Count of origin in Column')\n",
    "plt.xlabel('origin')\n",
    "plt.xticks(rotation=90)\n",
    "plt.ylabel('Count')\n",
    "plt.show()"
   ]
  },
  {
   "cell_type": "code",
   "execution_count": 285,
   "id": "a986a65a",
   "metadata": {
    "scrolled": false
   },
   "outputs": [],
   "source": [
    "m=df.Model.value_counts()"
   ]
  },
  {
   "cell_type": "code",
   "execution_count": 288,
   "id": "2ed95cb6",
   "metadata": {},
   "outputs": [
    {
     "data": {
      "text/plain": [
       "pinto              6\n",
       "maverick           5\n",
       "rabbit             5\n",
       "corolla            5\n",
       "matador            5\n",
       "504                4\n",
       "hornet             4\n",
       "gremlin            4\n",
       "corona             4\n",
       "chevette           4\n",
       "impala             4\n",
       "dasher             3\n",
       "colt               3\n",
       "vega               3\n",
       "nova               3\n",
       "citation           3\n",
       "caprice classic    3\n",
       "gran torino        3\n",
       "chevelle malibu    3\n",
       "civic              3\n",
       "duster             3\n",
       "Name: Model, dtype: int64"
      ]
     },
     "execution_count": 288,
     "metadata": {},
     "output_type": "execute_result"
    }
   ],
   "source": [
    "m[0:21]"
   ]
  },
  {
   "cell_type": "code",
   "execution_count": 289,
   "id": "f913944a",
   "metadata": {},
   "outputs": [
    {
     "data": {
      "image/png": "[encoded data removed]",
      "text/plain": [
       "<Figure size 600x400 with 1 Axes>"
      ]
     },
     "metadata": {},
     "output_type": "display_data"
    }
   ],
   "source": [
    "value_counts =m[0:21]\n",
    "\n",
    "# Get the maximum and minimum values\n",
    "max_value = value_counts.max()\n",
    "min_value = value_counts.min()\n",
    "\n",
    "# Plot the count of values in the 'Category' column using Matplotlib bar\n",
    "plt.figure(figsize=(6, 4))\n",
    "colors = ['red' if count == min_value else 'blue' if count == max_value else 'black' for count in value_counts.values]\n",
    "plt.bar(value_counts.index, value_counts.values, color=colors)\n",
    "\n",
    "plt.title('Count of origin in Column')\n",
    "plt.xlabel('origin')\n",
    "plt.xticks(rotation=90)\n",
    "plt.ylabel('Count')\n",
    "plt.show()"
   ]
  },
  {
   "cell_type": "code",
   "execution_count": 293,
   "id": "9285a98a",
   "metadata": {},
   "outputs": [
    {
     "data": {
      "image/png": "[encoded data removed]",
      "text/plain": [
       "<Figure size 640x480 with 1 Axes>"
      ]
     },
     "metadata": {},
     "output_type": "display_data"
    }
   ],
   "source": [
    "sns.boxplot(df[['cylinders','Kilometer_per_liter']])\n",
    "plt.show()"
   ]
  },
  {
   "cell_type": "code",
   "execution_count": 294,
   "id": "3cf29236",
   "metadata": {},
   "outputs": [
    {
     "data": {
      "image/png": "[encoded data removed]",
      "text/plain": [
       "<Figure size 640x480 with 1 Axes>"
      ]
     },
     "metadata": {},
     "output_type": "display_data"
    }
   ],
   "source": [
    "sns.boxplot(df[['year','Kilometer_per_liter']])\n",
    "plt.show()"
   ]
  },
  {
   "cell_type": "code",
   "execution_count": 323,
   "id": "e1c92c28",
   "metadata": {},
   "outputs": [
    {
     "data": {
      "text/plain": [
       "<Axes: >"
      ]
     },
     "execution_count": 323,
     "metadata": {},
     "output_type": "execute_result"
    },
    {
     "data": {
      "image/png": "[encoded data removed]",
      "text/plain": [
       "<Figure size 640x480 with 2 Axes>"
      ]
     },
     "metadata": {},
     "output_type": "display_data"
    }
   ],
   "source": [
    "sns.heatmap(df.corr(),annot=True,vmin=-1.0,cmap='YlGnBu')"
   ]
  },
  {
   "cell_type": "code",
   "execution_count": 416,
   "id": "7f219a10",
   "metadata": {},
   "outputs": [],
   "source": [
    "df4=df.copy()\n",
    "df4.drop(['displacement','weight','Manufacturer','Model'],axis=1,inplace=True)"
   ]
  },
  {
   "cell_type": "code",
   "execution_count": 417,
   "id": "c702d958",
   "metadata": {},
   "outputs": [
    {
     "data": {
      "text/plain": [
       "origin                  object\n",
       "cylinders               object\n",
       "horsepower             float64\n",
       "acceleration           float64\n",
       "year                   float64\n",
       "Kilometer_per_liter    float64\n",
       "dtype: object"
      ]
     },
     "execution_count": 417,
     "metadata": {},
     "output_type": "execute_result"
    }
   ],
   "source": [
    "df4.dtypes"
   ]
  },
  {
   "cell_type": "code",
   "execution_count": 418,
   "id": "01ab68b0",
   "metadata": {},
   "outputs": [],
   "source": [
    "df4=pd.get_dummies(df4,columns=['origin','cylinders'],drop_first=True)"
   ]
  },
  {
   "cell_type": "code",
   "execution_count": 469,
   "id": "cb01cc9f",
   "metadata": {},
   "outputs": [],
   "source": [
    "x=df4.drop(['Kilometer_per_liter'],axis=1)\n",
    "y=df4.Kilometer_per_liter"
   ]
  },
  {
   "cell_type": "code",
   "execution_count": 488,
   "id": "56365351",
   "metadata": {},
   "outputs": [],
   "source": [
    "x4_train,x4_test,y4_train,y4_test=train_test_split(x4,y4,test_size=0.3,random_state=1)"
   ]
  },
  {
   "cell_type": "code",
   "execution_count": 489,
   "id": "fb242546",
   "metadata": {},
   "outputs": [
    {
     "data": {
      "text/html": [
       "<style>#sk-container-id-40 {color: black;background-color: white;}#sk-container-id-40 pre{padding: 0;}#sk-container-id-40 div.sk-toggleable {background-color: white;}#sk-container-id-40 label.sk-toggleable__label {cursor: pointer;display: block;width: 100%;margin-bottom: 0;padding: 0.3em;box-sizing: border-box;text-align: center;}#sk-container-id-40 label.sk-toggleable__label-arrow:before {content: \"▸\";float: left;margin-right: 0.25em;color: #696969;}#sk-container-id-40 label.sk-toggleable__label-arrow:hover:before {color: black;}#sk-container-id-40 div.sk-estimator:hover label.sk-toggleable__label-arrow:before {color: black;}#sk-container-id-40 div.sk-toggleable__content {max-height: 0;max-width: 0;overflow: hidden;text-align: left;background-color: #f0f8ff;}#sk-container-id-40 div.sk-toggleable__content pre {margin: 0.2em;color: black;border-radius: 0.25em;background-color: #f0f8ff;}#sk-container-id-40 input.sk-toggleable__control:checked~div.sk-toggleable__content {max-height: 200px;max-width: 100%;overflow: auto;}#sk-container-id-40 input.sk-toggleable__control:checked~label.sk-toggleable__label-arrow:before {content: \"▾\";}#sk-container-id-40 div.sk-estimator input.sk-toggleable__control:checked~label.sk-toggleable__label {background-color: #d4ebff;}#sk-container-id-40 div.sk-label input.sk-toggleable__control:checked~label.sk-toggleable__label {background-color: #d4ebff;}#sk-container-id-40 input.sk-hidden--visually {border: 0;clip: rect(1px 1px 1px 1px);clip: rect(1px, 1px, 1px, 1px);height: 1px;margin: -1px;overflow: hidden;padding: 0;position: absolute;width: 1px;}#sk-container-id-40 div.sk-estimator {font-family: monospace;background-color: #f0f8ff;border: 1px dotted black;border-radius: 0.25em;box-sizing: border-box;margin-bottom: 0.5em;}#sk-container-id-40 div.sk-estimator:hover {background-color: #d4ebff;}#sk-container-id-40 div.sk-parallel-item::after {content: \"\";width: 100%;border-bottom: 1px solid gray;flex-grow: 1;}#sk-container-id-40 div.sk-label:hover label.sk-toggleable__label {background-color: #d4ebff;}#sk-container-id-40 div.sk-serial::before {content: \"\";position: absolute;border-left: 1px solid gray;box-sizing: border-box;top: 0;bottom: 0;left: 50%;z-index: 0;}#sk-container-id-40 div.sk-serial {display: flex;flex-direction: column;align-items: center;background-color: white;padding-right: 0.2em;padding-left: 0.2em;position: relative;}#sk-container-id-40 div.sk-item {position: relative;z-index: 1;}#sk-container-id-40 div.sk-parallel {display: flex;align-items: stretch;justify-content: center;background-color: white;position: relative;}#sk-container-id-40 div.sk-item::before, #sk-container-id-40 div.sk-parallel-item::before {content: \"\";position: absolute;border-left: 1px solid gray;box-sizing: border-box;top: 0;bottom: 0;left: 50%;z-index: -1;}#sk-container-id-40 div.sk-parallel-item {display: flex;flex-direction: column;z-index: 1;position: relative;background-color: white;}#sk-container-id-40 div.sk-parallel-item:first-child::after {align-self: flex-end;width: 50%;}#sk-container-id-40 div.sk-parallel-item:last-child::after {align-self: flex-start;width: 50%;}#sk-container-id-40 div.sk-parallel-item:only-child::after {width: 0;}#sk-container-id-40 div.sk-dashed-wrapped {border: 1px dashed gray;margin: 0 0.4em 0.5em 0.4em;box-sizing: border-box;padding-bottom: 0.4em;background-color: white;}#sk-container-id-40 div.sk-label label {font-family: monospace;font-weight: bold;display: inline-block;line-height: 1.2em;}#sk-container-id-40 div.sk-label-container {text-align: center;}#sk-container-id-40 div.sk-container {/* jupyter's `normalize.less` sets `[hidden] { display: none; }` but bootstrap.min.css set `[hidden] { display: none !important; }` so we also need the `!important` here to be able to override the default hidden behavior on the sphinx rendered scikit-learn.org. See: https://github.com/scikit-learn/scikit-learn/issues/21755 */display: inline-block !important;position: relative;}#sk-container-id-40 div.sk-text-repr-fallback {display: none;}</style><div id=\"sk-container-id-40\" class=\"sk-top-container\"><div class=\"sk-text-repr-fallback\"><pre>LinearRegression()</pre><b>In a Jupyter environment, please rerun this cell to show the HTML representation or trust the notebook. <br />On GitHub, the HTML representation is unable to render, please try loading this page with nbviewer.org.</b></div><div class=\"sk-container\" hidden><div class=\"sk-item\"><div class=\"sk-estimator sk-toggleable\"><input class=\"sk-toggleable__control sk-hidden--visually\" id=\"sk-estimator-id-40\" type=\"checkbox\" checked><label for=\"sk-estimator-id-40\" class=\"sk-toggleable__label sk-toggleable__label-arrow\">LinearRegression</label><div class=\"sk-toggleable__content\"><pre>LinearRegression()</pre></div></div></div></div></div>"
      ],
      "text/plain": [
       "LinearRegression()"
      ]
     },
     "execution_count": 489,
     "metadata": {},
     "output_type": "execute_result"
    }
   ],
   "source": [
    "model4=LinearRegression()\n",
    "model4.fit(x4_train,y4_train)"
   ]
  },
  {
   "cell_type": "code",
   "execution_count": 490,
   "id": "6e7da05c",
   "metadata": {},
   "outputs": [
    {
     "data": {
      "text/plain": [
       "0.8754833909857919"
      ]
     },
     "execution_count": 490,
     "metadata": {},
     "output_type": "execute_result"
    }
   ],
   "source": [
    "model4.score(x4_train,y4_train)"
   ]
  },
  {
   "cell_type": "code",
   "execution_count": 491,
   "id": "2d766445",
   "metadata": {},
   "outputs": [
    {
     "data": {
      "text/plain": [
       "0.8926765698625599"
      ]
     },
     "execution_count": 491,
     "metadata": {},
     "output_type": "execute_result"
    }
   ],
   "source": [
    "model4.score(x4_test,y4_test)"
   ]
  },
  {
   "cell_type": "code",
   "execution_count": 492,
   "id": "191eb38b",
   "metadata": {},
   "outputs": [],
   "source": [
    "x4_train_p=poly.fit_transform(x4_train)\n",
    "x4_test_p=poly.fit_transform(x4_test)"
   ]
  },
  {
   "cell_type": "code",
   "execution_count": 493,
   "id": "e740e48b",
   "metadata": {},
   "outputs": [
    {
     "data": {
      "text/html": [
       "<style>#sk-container-id-41 {color: black;background-color: white;}#sk-container-id-41 pre{padding: 0;}#sk-container-id-41 div.sk-toggleable {background-color: white;}#sk-container-id-41 label.sk-toggleable__label {cursor: pointer;display: block;width: 100%;margin-bottom: 0;padding: 0.3em;box-sizing: border-box;text-align: center;}#sk-container-id-41 label.sk-toggleable__label-arrow:before {content: \"▸\";float: left;margin-right: 0.25em;color: #696969;}#sk-container-id-41 label.sk-toggleable__label-arrow:hover:before {color: black;}#sk-container-id-41 div.sk-estimator:hover label.sk-toggleable__label-arrow:before {color: black;}#sk-container-id-41 div.sk-toggleable__content {max-height: 0;max-width: 0;overflow: hidden;text-align: left;background-color: #f0f8ff;}#sk-container-id-41 div.sk-toggleable__content pre {margin: 0.2em;color: black;border-radius: 0.25em;background-color: #f0f8ff;}#sk-container-id-41 input.sk-toggleable__control:checked~div.sk-toggleable__content {max-height: 200px;max-width: 100%;overflow: auto;}#sk-container-id-41 input.sk-toggleable__control:checked~label.sk-toggleable__label-arrow:before {content: \"▾\";}#sk-container-id-41 div.sk-estimator input.sk-toggleable__control:checked~label.sk-toggleable__label {background-color: #d4ebff;}#sk-container-id-41 div.sk-label input.sk-toggleable__control:checked~label.sk-toggleable__label {background-color: #d4ebff;}#sk-container-id-41 input.sk-hidden--visually {border: 0;clip: rect(1px 1px 1px 1px);clip: rect(1px, 1px, 1px, 1px);height: 1px;margin: -1px;overflow: hidden;padding: 0;position: absolute;width: 1px;}#sk-container-id-41 div.sk-estimator {font-family: monospace;background-color: #f0f8ff;border: 1px dotted black;border-radius: 0.25em;box-sizing: border-box;margin-bottom: 0.5em;}#sk-container-id-41 div.sk-estimator:hover {background-color: #d4ebff;}#sk-container-id-41 div.sk-parallel-item::after {content: \"\";width: 100%;border-bottom: 1px solid gray;flex-grow: 1;}#sk-container-id-41 div.sk-label:hover label.sk-toggleable__label {background-color: #d4ebff;}#sk-container-id-41 div.sk-serial::before {content: \"\";position: absolute;border-left: 1px solid gray;box-sizing: border-box;top: 0;bottom: 0;left: 50%;z-index: 0;}#sk-container-id-41 div.sk-serial {display: flex;flex-direction: column;align-items: center;background-color: white;padding-right: 0.2em;padding-left: 0.2em;position: relative;}#sk-container-id-41 div.sk-item {position: relative;z-index: 1;}#sk-container-id-41 div.sk-parallel {display: flex;align-items: stretch;justify-content: center;background-color: white;position: relative;}#sk-container-id-41 div.sk-item::before, #sk-container-id-41 div.sk-parallel-item::before {content: \"\";position: absolute;border-left: 1px solid gray;box-sizing: border-box;top: 0;bottom: 0;left: 50%;z-index: -1;}#sk-container-id-41 div.sk-parallel-item {display: flex;flex-direction: column;z-index: 1;position: relative;background-color: white;}#sk-container-id-41 div.sk-parallel-item:first-child::after {align-self: flex-end;width: 50%;}#sk-container-id-41 div.sk-parallel-item:last-child::after {align-self: flex-start;width: 50%;}#sk-container-id-41 div.sk-parallel-item:only-child::after {width: 0;}#sk-container-id-41 div.sk-dashed-wrapped {border: 1px dashed gray;margin: 0 0.4em 0.5em 0.4em;box-sizing: border-box;padding-bottom: 0.4em;background-color: white;}#sk-container-id-41 div.sk-label label {font-family: monospace;font-weight: bold;display: inline-block;line-height: 1.2em;}#sk-container-id-41 div.sk-label-container {text-align: center;}#sk-container-id-41 div.sk-container {/* jupyter's `normalize.less` sets `[hidden] { display: none; }` but bootstrap.min.css set `[hidden] { display: none !important; }` so we also need the `!important` here to be able to override the default hidden behavior on the sphinx rendered scikit-learn.org. See: https://github.com/scikit-learn/scikit-learn/issues/21755 */display: inline-block !important;position: relative;}#sk-container-id-41 div.sk-text-repr-fallback {display: none;}</style><div id=\"sk-container-id-41\" class=\"sk-top-container\"><div class=\"sk-text-repr-fallback\"><pre>LinearRegression()</pre><b>In a Jupyter environment, please rerun this cell to show the HTML representation or trust the notebook. <br />On GitHub, the HTML representation is unable to render, please try loading this page with nbviewer.org.</b></div><div class=\"sk-container\" hidden><div class=\"sk-item\"><div class=\"sk-estimator sk-toggleable\"><input class=\"sk-toggleable__control sk-hidden--visually\" id=\"sk-estimator-id-41\" type=\"checkbox\" checked><label for=\"sk-estimator-id-41\" class=\"sk-toggleable__label sk-toggleable__label-arrow\">LinearRegression</label><div class=\"sk-toggleable__content\"><pre>LinearRegression()</pre></div></div></div></div></div>"
      ],
      "text/plain": [
       "LinearRegression()"
      ]
     },
     "execution_count": 493,
     "metadata": {},
     "output_type": "execute_result"
    }
   ],
   "source": [
    "model4_poly=LinearRegression()\n",
    "model4_poly.fit(x4_train_p,y4_train)"
   ]
  },
  {
   "cell_type": "code",
   "execution_count": 494,
   "id": "33a8cecd",
   "metadata": {},
   "outputs": [
    {
     "data": {
      "text/plain": [
       "0.9192822608027547"
      ]
     },
     "execution_count": 494,
     "metadata": {},
     "output_type": "execute_result"
    }
   ],
   "source": [
    "model4_poly.score(x4_train_p,y4_train)"
   ]
  },
  {
   "cell_type": "code",
   "execution_count": 495,
   "id": "01490322",
   "metadata": {},
   "outputs": [
    {
     "data": {
      "text/plain": [
       "0.8848718360398243"
      ]
     },
     "execution_count": 495,
     "metadata": {},
     "output_type": "execute_result"
    }
   ],
   "source": [
    "model4_poly.score(x4_test_p,y4_test)"
   ]
  },
  {
   "cell_type": "code",
   "execution_count": 428,
   "id": "ac7c781e",
   "metadata": {},
   "outputs": [],
   "source": [
    "scaler=MinMaxScaler()"
   ]
  },
  {
   "cell_type": "code",
   "execution_count": 429,
   "id": "41c05e40",
   "metadata": {},
   "outputs": [],
   "source": [
    "columns_to_scale = [ 'horsepower', 'acceleration', 'year', 'Kilometer_per_liter']\n",
    "\n",
    "\n",
    "df4[columns_to_scale] = scaler.fit_transform(df4[columns_to_scale])\n"
   ]
  },
  {
   "cell_type": "code",
   "execution_count": 430,
   "id": "f8505a71",
   "metadata": {},
   "outputs": [],
   "source": [
    "xs=df4.drop(['Kilometer_per_liter'],axis=1)\n",
    "ys=df4.Kilometer_per_liter"
   ]
  },
  {
   "cell_type": "code",
   "execution_count": 431,
   "id": "0c43b971",
   "metadata": {},
   "outputs": [],
   "source": [
    "xs_train,xs_test,ys_train,ys_test=train_test_split(xs,ys,test_size=0.3,random_state=1)"
   ]
  },
  {
   "cell_type": "code",
   "execution_count": 432,
   "id": "6e64749a",
   "metadata": {},
   "outputs": [
    {
     "data": {
      "text/html": [
       "<style>#sk-container-id-35 {color: black;background-color: white;}#sk-container-id-35 pre{padding: 0;}#sk-container-id-35 div.sk-toggleable {background-color: white;}#sk-container-id-35 label.sk-toggleable__label {cursor: pointer;display: block;width: 100%;margin-bottom: 0;padding: 0.3em;box-sizing: border-box;text-align: center;}#sk-container-id-35 label.sk-toggleable__label-arrow:before {content: \"▸\";float: left;margin-right: 0.25em;color: #696969;}#sk-container-id-35 label.sk-toggleable__label-arrow:hover:before {color: black;}#sk-container-id-35 div.sk-estimator:hover label.sk-toggleable__label-arrow:before {color: black;}#sk-container-id-35 div.sk-toggleable__content {max-height: 0;max-width: 0;overflow: hidden;text-align: left;background-color: #f0f8ff;}#sk-container-id-35 div.sk-toggleable__content pre {margin: 0.2em;color: black;border-radius: 0.25em;background-color: #f0f8ff;}#sk-container-id-35 input.sk-toggleable__control:checked~div.sk-toggleable__content {max-height: 200px;max-width: 100%;overflow: auto;}#sk-container-id-35 input.sk-toggleable__control:checked~label.sk-toggleable__label-arrow:before {content: \"▾\";}#sk-container-id-35 div.sk-estimator input.sk-toggleable__control:checked~label.sk-toggleable__label {background-color: #d4ebff;}#sk-container-id-35 div.sk-label input.sk-toggleable__control:checked~label.sk-toggleable__label {background-color: #d4ebff;}#sk-container-id-35 input.sk-hidden--visually {border: 0;clip: rect(1px 1px 1px 1px);clip: rect(1px, 1px, 1px, 1px);height: 1px;margin: -1px;overflow: hidden;padding: 0;position: absolute;width: 1px;}#sk-container-id-35 div.sk-estimator {font-family: monospace;background-color: #f0f8ff;border: 1px dotted black;border-radius: 0.25em;box-sizing: border-box;margin-bottom: 0.5em;}#sk-container-id-35 div.sk-estimator:hover {background-color: #d4ebff;}#sk-container-id-35 div.sk-parallel-item::after {content: \"\";width: 100%;border-bottom: 1px solid gray;flex-grow: 1;}#sk-container-id-35 div.sk-label:hover label.sk-toggleable__label {background-color: #d4ebff;}#sk-container-id-35 div.sk-serial::before {content: \"\";position: absolute;border-left: 1px solid gray;box-sizing: border-box;top: 0;bottom: 0;left: 50%;z-index: 0;}#sk-container-id-35 div.sk-serial {display: flex;flex-direction: column;align-items: center;background-color: white;padding-right: 0.2em;padding-left: 0.2em;position: relative;}#sk-container-id-35 div.sk-item {position: relative;z-index: 1;}#sk-container-id-35 div.sk-parallel {display: flex;align-items: stretch;justify-content: center;background-color: white;position: relative;}#sk-container-id-35 div.sk-item::before, #sk-container-id-35 div.sk-parallel-item::before {content: \"\";position: absolute;border-left: 1px solid gray;box-sizing: border-box;top: 0;bottom: 0;left: 50%;z-index: -1;}#sk-container-id-35 div.sk-parallel-item {display: flex;flex-direction: column;z-index: 1;position: relative;background-color: white;}#sk-container-id-35 div.sk-parallel-item:first-child::after {align-self: flex-end;width: 50%;}#sk-container-id-35 div.sk-parallel-item:last-child::after {align-self: flex-start;width: 50%;}#sk-container-id-35 div.sk-parallel-item:only-child::after {width: 0;}#sk-container-id-35 div.sk-dashed-wrapped {border: 1px dashed gray;margin: 0 0.4em 0.5em 0.4em;box-sizing: border-box;padding-bottom: 0.4em;background-color: white;}#sk-container-id-35 div.sk-label label {font-family: monospace;font-weight: bold;display: inline-block;line-height: 1.2em;}#sk-container-id-35 div.sk-label-container {text-align: center;}#sk-container-id-35 div.sk-container {/* jupyter's `normalize.less` sets `[hidden] { display: none; }` but bootstrap.min.css set `[hidden] { display: none !important; }` so we also need the `!important` here to be able to override the default hidden behavior on the sphinx rendered scikit-learn.org. See: https://github.com/scikit-learn/scikit-learn/issues/21755 */display: inline-block !important;position: relative;}#sk-container-id-35 div.sk-text-repr-fallback {display: none;}</style><div id=\"sk-container-id-35\" class=\"sk-top-container\"><div class=\"sk-text-repr-fallback\"><pre>SGDRegressor(loss=&#x27;epsilon_insensitive&#x27;)</pre><b>In a Jupyter environment, please rerun this cell to show the HTML representation or trust the notebook. <br />On GitHub, the HTML representation is unable to render, please try loading this page with nbviewer.org.</b></div><div class=\"sk-container\" hidden><div class=\"sk-item\"><div class=\"sk-estimator sk-toggleable\"><input class=\"sk-toggleable__control sk-hidden--visually\" id=\"sk-estimator-id-35\" type=\"checkbox\" checked><label for=\"sk-estimator-id-35\" class=\"sk-toggleable__label sk-toggleable__label-arrow\">SGDRegressor</label><div class=\"sk-toggleable__content\"><pre>SGDRegressor(loss=&#x27;epsilon_insensitive&#x27;)</pre></div></div></div></div></div>"
      ],
      "text/plain": [
       "SGDRegressor(loss='epsilon_insensitive')"
      ]
     },
     "execution_count": 432,
     "metadata": {},
     "output_type": "execute_result"
    }
   ],
   "source": [
    "modelsgd=SGDRegressor(loss='epsilon_insensitive')\n",
    "modelsgd.fit(xs_train,ys_train)"
   ]
  },
  {
   "cell_type": "code",
   "execution_count": 433,
   "id": "8c514fa3",
   "metadata": {},
   "outputs": [
    {
     "data": {
      "text/plain": [
       "0.7488197070453"
      ]
     },
     "execution_count": 433,
     "metadata": {},
     "output_type": "execute_result"
    }
   ],
   "source": [
    "modelsgd.score(xs_train,ys_train)"
   ]
  },
  {
   "cell_type": "code",
   "execution_count": 434,
   "id": "18a70b9f",
   "metadata": {},
   "outputs": [
    {
     "data": {
      "text/plain": [
       "0.8076273742026283"
      ]
     },
     "execution_count": 434,
     "metadata": {},
     "output_type": "execute_result"
    }
   ],
   "source": [
    "modelsgd.score(xs_test,ys_test)"
   ]
  },
  {
   "cell_type": "code",
   "execution_count": 435,
   "id": "fdb2039d",
   "metadata": {},
   "outputs": [],
   "source": [
    "r2=modelsgd.score(xs_train,ys_train)"
   ]
  },
  {
   "cell_type": "code",
   "execution_count": 436,
   "id": "71f7384a",
   "metadata": {},
   "outputs": [],
   "source": [
    "y_pred_sgd=modelsgd.predict(xs_test)"
   ]
  },
  {
   "cell_type": "code",
   "execution_count": 478,
   "id": "e5b03015",
   "metadata": {},
   "outputs": [],
   "source": [
    "n=xs_train.shape[0]\n",
    "p=xs_train.shape[1]\n",
    "n_test=xs_test.shape[0]\n",
    "p_test=xs_test.shape[1]\n",
    "n_a3=x3_train.shape[0]\n",
    "p_a3=x3_train.shape[1]\n",
    "n4=x4_train_p.shape[0]\n",
    "p4=x4_train_p.shape[1]"
   ]
  },
  {
   "cell_type": "code",
   "execution_count": 496,
   "id": "79072300",
   "metadata": {},
   "outputs": [],
   "source": [
    "adj_r = 1-(1-r2)*(n-1)/(n-p-1)\n",
    "rmse_sgd = sqrt(mean_squared_error(ys_test,y_pred_sgd))\n",
    "\n",
    "r2_test=modelsgd.score(xs_test,ys_test)\n",
    "adj_r_test = 1-(1-r2_test)*(n_test-1)/(n_test-p_test-1)"
   ]
  },
  {
   "cell_type": "code",
   "execution_count": 497,
   "id": "e214ed18",
   "metadata": {},
   "outputs": [],
   "source": [
    "r2_a3=model_a3.score(x3_test,y3_test)\n",
    "adj_r_a3 = 1-(1-r2_a3)*(n_a3-1)/(n_a3-p_a3-1)\n",
    "y_pred_a3=model_a3.predict(x3_test)\n",
    "rmse_a3 = sqrt(mean_squared_error(y3_test,y_pred_a3))"
   ]
  },
  {
   "cell_type": "code",
   "execution_count": 498,
   "id": "ef8bcdf0",
   "metadata": {},
   "outputs": [],
   "source": [
    "r2_a4_p=model4_poly.score(x4_test_p,y4_test)\n",
    "adj_r_a4_p = 1-(1-r2_a4_p)*(n4-1)/(n4-p4-1)\n",
    "y_pred_a4=model4_poly.predict(x4_test_p)\n",
    "rmse_a4 = sqrt(mean_squared_error(y4_test,y_pred_a4))"
   ]
  },
  {
   "cell_type": "code",
   "execution_count": 501,
   "id": "5aecdce3",
   "metadata": {},
   "outputs": [],
   "source": [
    "SGD_metrics=pd.DataFrame({'model':['SGD','Linear regression','Polynomial regression'],'R-squared':[r2_test,r2_a3,r2_a4_p],'Adj_R-squared':[adj_r_test,adj_r_a3,adj_r_a4_p],\"RMSE\":[rmse_sgd,rmse_a3,rmse_a4]})"
   ]
  },
  {
   "cell_type": "code",
   "execution_count": 502,
   "id": "49b83152",
   "metadata": {},
   "outputs": [
    {
     "data": {
      "text/html": [
       "<div>\n",
       "<style scoped>\n",
       "    .dataframe tbody tr th:only-of-type {\n",
       "        vertical-align: middle;\n",
       "    }\n",
       "\n",
       "    .dataframe tbody tr th {\n",
       "        vertical-align: top;\n",
       "    }\n",
       "\n",
       "    .dataframe thead th {\n",
       "        text-align: right;\n",
       "    }\n",
       "</style>\n",
       "<table border=\"1\" class=\"dataframe\">\n",
       "  <thead>\n",
       "    <tr style=\"text-align: right;\">\n",
       "      <th></th>\n",
       "      <th>model</th>\n",
       "      <th>R-squared</th>\n",
       "      <th>Adj_R-squared</th>\n",
       "      <th>RMSE</th>\n",
       "    </tr>\n",
       "  </thead>\n",
       "  <tbody>\n",
       "    <tr>\n",
       "      <th>0</th>\n",
       "      <td>SGD</td>\n",
       "      <td>0.807627</td>\n",
       "      <td>0.791888</td>\n",
       "      <td>0.089195</td>\n",
       "    </tr>\n",
       "    <tr>\n",
       "      <th>1</th>\n",
       "      <td>Linear regression</td>\n",
       "      <td>0.893009</td>\n",
       "      <td>0.889002</td>\n",
       "      <td>0.110621</td>\n",
       "    </tr>\n",
       "    <tr>\n",
       "      <th>2</th>\n",
       "      <td>Polynomial regression</td>\n",
       "      <td>0.884872</td>\n",
       "      <td>0.861946</td>\n",
       "      <td>0.114751</td>\n",
       "    </tr>\n",
       "  </tbody>\n",
       "</table>\n",
       "</div>"
      ],
      "text/plain": [
       "                   model  R-squared  Adj_R-squared      RMSE\n",
       "0                    SGD   0.807627       0.791888  0.089195\n",
       "1      Linear regression   0.893009       0.889002  0.110621\n",
       "2  Polynomial regression   0.884872       0.861946  0.114751"
      ]
     },
     "execution_count": 502,
     "metadata": {},
     "output_type": "execute_result"
    }
   ],
   "source": [
    "SGD_metrics"
   ]
  },
  {
   "cell_type": "code",
   "execution_count": null,
   "id": "4cd88643",
   "metadata": {},
   "outputs": [],
   "source": []
  }
 ],
 "metadata": {
  "kernelspec": {
   "display_name": "Python 3 (ipykernel)",
   "language": "python",
   "name": "python3"
  },
  "language_info": {
   "codemirror_mode": {
    "name": "ipython",
    "version": 3
   },
   "file_extension": ".py",
   "mimetype": "text/x-python",
   "name": "python",
   "nbconvert_exporter": "python",
   "pygments_lexer": "ipython3",
   "version": "3.10.9"
  }
 },
 "nbformat": 4,
 "nbformat_minor": 5
}
